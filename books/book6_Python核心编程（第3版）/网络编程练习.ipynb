{
 "metadata": {
  "language_info": {
   "codemirror_mode": {
    "name": "ipython",
    "version": 3
   },
   "file_extension": ".py",
   "mimetype": "text/x-python",
   "name": "python",
   "nbconvert_exporter": "python",
   "pygments_lexer": "ipython3",
   "version": "3.7.8-final"
  },
  "orig_nbformat": 2,
  "kernelspec": {
   "name": "python3",
   "display_name": "Python 3",
   "language": "python"
  }
 },
 "nbformat": 4,
 "nbformat_minor": 2,
 "cells": [
  {
   "source": [
    "创建TCP服务器"
   ],
   "cell_type": "markdown",
   "metadata": {}
  },
  {
   "cell_type": "code",
   "execution_count": 7,
   "metadata": {},
   "outputs": [],
   "source": [
    "from socket import *\n",
    "from time import ctime\n",
    "\n",
    "HOST = ''\n",
    "PORT = 21567\n",
    "BUFSIZ = 1024\n",
    "ADDR = (HOST, PORT)\n",
    "\n",
    "tcpSerSock = socket(AF_INET, SOCK_STREAM)\n",
    "tcpSerSock.bind(ADDR)\n",
    "tcpSerSock.listen(5 )\n",
    "\n",
    "while True:\n",
    "    print('等待连接...')\n",
    "    tcpCliSock, addr =tcpSerSock.accept()\n",
    "    print('...连接自：', addr)\n",
    "\n",
    "    while True:\n",
    "        data = tcpCliSock.recv(BUFSIZ)\n",
    "        if not data:\n",
    "            break\n",
    "        tcpCliSock.send('[%s] %s' % (bytes(ctime(), 'utf-8'), data))\n",
    "\n",
    "    tcpCliSock.close()\n",
    "tcpSerSock.close()"
   ]
  },
  {
   "source": [
    "创建TCP客户端"
   ],
   "cell_type": "markdown",
   "metadata": {}
  },
  {
   "cell_type": "code",
   "execution_count": null,
   "metadata": {},
   "outputs": [],
   "source": []
  }
 ]
}