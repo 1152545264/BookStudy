{
 "cells": [
  {
   "cell_type": "code",
   "execution_count": 1,
   "metadata": {},
   "outputs": [],
   "source": [
    "from sklearn.linear_model import LinearRegression"
   ]
  },
  {
   "cell_type": "code",
   "execution_count": 2,
   "metadata": {},
   "outputs": [],
   "source": [
    "linear = LinearRegression()"
   ]
  },
  {
   "cell_type": "code",
   "execution_count": 3,
   "metadata": {},
   "outputs": [],
   "source": [
    "import pandas as pd"
   ]
  },
  {
   "cell_type": "code",
   "execution_count": 4,
   "metadata": {},
   "outputs": [],
   "source": [
    "import numpy as np"
   ]
  },
  {
   "cell_type": "code",
   "execution_count": 5,
   "metadata": {},
   "outputs": [],
   "source": [
    "file = './hmd(1).xlsx'"
   ]
  },
  {
   "cell_type": "code",
   "execution_count": 6,
   "metadata": {},
   "outputs": [],
   "source": [
    "df = pd.read_excel(file)"
   ]
  },
  {
   "cell_type": "code",
   "execution_count": 7,
   "metadata": {},
   "outputs": [
    {
     "data": {
      "text/plain": [
       "Index(['证券代码'', 'id', '会计期间'', 'year', '行业', 'code', '合计发明专利申请量', '总申请量',\n",
       "       '合计发明专利授权量', '各年被引用次数_y', 'group', 'eig', 'OutDegree', 'InDegree',\n",
       "       'pjdegree', 'groups', 'OutDegrees', 'InDegrees', 'e', 'pjdegrees',\n",
       "       'ROA', 'size(企业规模）', '资本密集度', 'OCF（经营活动现金流比率）', 'lev（资产负债率）',\n",
       "       'TOP1(第一大股东持股占比)', '独董占比', 'TobinQ(市值A)', 'HHI', 'age1公司成立日期年龄',\n",
       "       'age2上市日期年龄', 'rd'],\n",
       "      dtype='object')"
      ]
     },
     "execution_count": 7,
     "metadata": {},
     "output_type": "execute_result"
    }
   ],
   "source": [
    "df.columns"
   ]
  },
  {
   "cell_type": "markdown",
   "metadata": {},
   "source": [
    "## 选择目标列，输入的列名和输出的列名"
   ]
  },
  {
   "cell_type": "code",
   "execution_count": 8,
   "metadata": {},
   "outputs": [],
   "source": [
    "aim_columns = ['合计发明专利申请量', 'group', 'ROA', 'size(企业规模）', '资本密集度', 'OCF（经营活动现金流比率）', 'lev（资产负债率）',\n",
    "       'TOP1(第一大股东持股占比)', '独董占比', 'TobinQ(市值A)', 'HHI', 'age1公司成立日期年龄']"
   ]
  },
  {
   "cell_type": "code",
   "execution_count": 9,
   "metadata": {},
   "outputs": [],
   "source": [
    "aim_df = df[aim_columns]"
   ]
  },
  {
   "cell_type": "code",
   "execution_count": 10,
   "metadata": {},
   "outputs": [
    {
     "data": {
      "text/plain": [
       "(28251, 12)"
      ]
     },
     "execution_count": 10,
     "metadata": {},
     "output_type": "execute_result"
    }
   ],
   "source": [
    "aim_df.shape"
   ]
  },
  {
   "cell_type": "code",
   "execution_count": 11,
   "metadata": {},
   "outputs": [
    {
     "data": {
      "text/html": [
       "<div>\n",
       "<style scoped>\n",
       "    .dataframe tbody tr th:only-of-type {\n",
       "        vertical-align: middle;\n",
       "    }\n",
       "\n",
       "    .dataframe tbody tr th {\n",
       "        vertical-align: top;\n",
       "    }\n",
       "\n",
       "    .dataframe thead th {\n",
       "        text-align: right;\n",
       "    }\n",
       "</style>\n",
       "<table border=\"1\" class=\"dataframe\">\n",
       "  <thead>\n",
       "    <tr style=\"text-align: right;\">\n",
       "      <th></th>\n",
       "      <th>合计发明专利申请量</th>\n",
       "      <th>group</th>\n",
       "      <th>ROA</th>\n",
       "      <th>size(企业规模）</th>\n",
       "      <th>资本密集度</th>\n",
       "      <th>OCF（经营活动现金流比率）</th>\n",
       "      <th>lev（资产负债率）</th>\n",
       "      <th>TOP1(第一大股东持股占比)</th>\n",
       "      <th>独董占比</th>\n",
       "      <th>TobinQ(市值A)</th>\n",
       "      <th>HHI</th>\n",
       "      <th>age1公司成立日期年龄</th>\n",
       "    </tr>\n",
       "  </thead>\n",
       "  <tbody>\n",
       "    <tr>\n",
       "      <th>0</th>\n",
       "      <td>NaN</td>\n",
       "      <td>1</td>\n",
       "      <td>0.058750</td>\n",
       "      <td>10.191295</td>\n",
       "      <td>0.014898</td>\n",
       "      <td>0.067501</td>\n",
       "      <td>0.594163</td>\n",
       "      <td>0.1289</td>\n",
       "      <td>0.363636</td>\n",
       "      <td>1.297813</td>\n",
       "      <td>0.021229</td>\n",
       "      <td>20</td>\n",
       "    </tr>\n",
       "    <tr>\n",
       "      <th>1</th>\n",
       "      <td>NaN</td>\n",
       "      <td>1</td>\n",
       "      <td>0.065178</td>\n",
       "      <td>10.342272</td>\n",
       "      <td>0.009854</td>\n",
       "      <td>0.038351</td>\n",
       "      <td>0.609809</td>\n",
       "      <td>0.1181</td>\n",
       "      <td>0.363636</td>\n",
       "      <td>1.315271</td>\n",
       "      <td>0.026017</td>\n",
       "      <td>21</td>\n",
       "    </tr>\n",
       "    <tr>\n",
       "      <th>2</th>\n",
       "      <td>NaN</td>\n",
       "      <td>1</td>\n",
       "      <td>0.047589</td>\n",
       "      <td>10.685813</td>\n",
       "      <td>0.010452</td>\n",
       "      <td>-0.062343</td>\n",
       "      <td>0.649418</td>\n",
       "      <td>0.1454</td>\n",
       "      <td>0.363636</td>\n",
       "      <td>1.900205</td>\n",
       "      <td>0.034094</td>\n",
       "      <td>22</td>\n",
       "    </tr>\n",
       "    <tr>\n",
       "      <th>3</th>\n",
       "      <td>NaN</td>\n",
       "      <td>1</td>\n",
       "      <td>0.053125</td>\n",
       "      <td>11.000410</td>\n",
       "      <td>0.005747</td>\n",
       "      <td>-0.104279</td>\n",
       "      <td>0.661125</td>\n",
       "      <td>0.1463</td>\n",
       "      <td>0.363636</td>\n",
       "      <td>2.520221</td>\n",
       "      <td>0.050203</td>\n",
       "      <td>23</td>\n",
       "    </tr>\n",
       "    <tr>\n",
       "      <th>4</th>\n",
       "      <td>NaN</td>\n",
       "      <td>1</td>\n",
       "      <td>0.038913</td>\n",
       "      <td>11.076410</td>\n",
       "      <td>0.010612</td>\n",
       "      <td>-0.000286</td>\n",
       "      <td>0.674441</td>\n",
       "      <td>0.1473</td>\n",
       "      <td>0.363636</td>\n",
       "      <td>1.249145</td>\n",
       "      <td>0.055167</td>\n",
       "      <td>24</td>\n",
       "    </tr>\n",
       "  </tbody>\n",
       "</table>\n",
       "</div>"
      ],
      "text/plain": [
       "   合计发明专利申请量  group       ROA  size(企业规模）     资本密集度  OCF（经营活动现金流比率）  \\\n",
       "0        NaN      1  0.058750   10.191295  0.014898        0.067501   \n",
       "1        NaN      1  0.065178   10.342272  0.009854        0.038351   \n",
       "2        NaN      1  0.047589   10.685813  0.010452       -0.062343   \n",
       "3        NaN      1  0.053125   11.000410  0.005747       -0.104279   \n",
       "4        NaN      1  0.038913   11.076410  0.010612       -0.000286   \n",
       "\n",
       "   lev（资产负债率）  TOP1(第一大股东持股占比)      独董占比  TobinQ(市值A)       HHI  age1公司成立日期年龄  \n",
       "0    0.594163           0.1289  0.363636     1.297813  0.021229            20  \n",
       "1    0.609809           0.1181  0.363636     1.315271  0.026017            21  \n",
       "2    0.649418           0.1454  0.363636     1.900205  0.034094            22  \n",
       "3    0.661125           0.1463  0.363636     2.520221  0.050203            23  \n",
       "4    0.674441           0.1473  0.363636     1.249145  0.055167            24  "
      ]
     },
     "execution_count": 11,
     "metadata": {},
     "output_type": "execute_result"
    }
   ],
   "source": [
    "aim_df.head()"
   ]
  },
  {
   "cell_type": "code",
   "execution_count": 12,
   "metadata": {},
   "outputs": [
    {
     "name": "stderr",
     "output_type": "stream",
     "text": [
      "d:\\python3.78\\lib\\site-packages\\ipykernel_launcher.py:1: SettingWithCopyWarning: \n",
      "A value is trying to be set on a copy of a slice from a DataFrame\n",
      "\n",
      "See the caveats in the documentation: https://pandas.pydata.org/pandas-docs/stable/user_guide/indexing.html#returning-a-view-versus-a-copy\n",
      "  \"\"\"Entry point for launching an IPython kernel.\n"
     ]
    }
   ],
   "source": [
    "aim_df.dropna(inplace=True)"
   ]
  },
  {
   "cell_type": "code",
   "execution_count": 13,
   "metadata": {},
   "outputs": [
    {
     "data": {
      "text/html": [
       "<div>\n",
       "<style scoped>\n",
       "    .dataframe tbody tr th:only-of-type {\n",
       "        vertical-align: middle;\n",
       "    }\n",
       "\n",
       "    .dataframe tbody tr th {\n",
       "        vertical-align: top;\n",
       "    }\n",
       "\n",
       "    .dataframe thead th {\n",
       "        text-align: right;\n",
       "    }\n",
       "</style>\n",
       "<table border=\"1\" class=\"dataframe\">\n",
       "  <thead>\n",
       "    <tr style=\"text-align: right;\">\n",
       "      <th></th>\n",
       "      <th>合计发明专利申请量</th>\n",
       "      <th>group</th>\n",
       "      <th>ROA</th>\n",
       "      <th>size(企业规模）</th>\n",
       "      <th>资本密集度</th>\n",
       "      <th>OCF（经营活动现金流比率）</th>\n",
       "      <th>lev（资产负债率）</th>\n",
       "      <th>TOP1(第一大股东持股占比)</th>\n",
       "      <th>独董占比</th>\n",
       "      <th>TobinQ(市值A)</th>\n",
       "      <th>HHI</th>\n",
       "      <th>age1公司成立日期年龄</th>\n",
       "    </tr>\n",
       "  </thead>\n",
       "  <tbody>\n",
       "    <tr>\n",
       "      <th>15</th>\n",
       "      <td>0.0</td>\n",
       "      <td>0</td>\n",
       "      <td>-0.015321</td>\n",
       "      <td>8.330962</td>\n",
       "      <td>0.180441</td>\n",
       "      <td>0.001892</td>\n",
       "      <td>0.427696</td>\n",
       "      <td>0.3794</td>\n",
       "      <td>0.333333</td>\n",
       "      <td>2.040061</td>\n",
       "      <td>0.031119</td>\n",
       "      <td>18</td>\n",
       "    </tr>\n",
       "    <tr>\n",
       "      <th>16</th>\n",
       "      <td>0.0</td>\n",
       "      <td>0</td>\n",
       "      <td>-0.119186</td>\n",
       "      <td>8.192759</td>\n",
       "      <td>0.208786</td>\n",
       "      <td>0.070962</td>\n",
       "      <td>0.358844</td>\n",
       "      <td>0.3794</td>\n",
       "      <td>0.333333</td>\n",
       "      <td>1.788395</td>\n",
       "      <td>0.031789</td>\n",
       "      <td>19</td>\n",
       "    </tr>\n",
       "    <tr>\n",
       "      <th>17</th>\n",
       "      <td>0.0</td>\n",
       "      <td>0</td>\n",
       "      <td>0.014954</td>\n",
       "      <td>8.310278</td>\n",
       "      <td>0.165953</td>\n",
       "      <td>-0.043921</td>\n",
       "      <td>0.450415</td>\n",
       "      <td>0.2844</td>\n",
       "      <td>0.333333</td>\n",
       "      <td>1.703456</td>\n",
       "      <td>0.031721</td>\n",
       "      <td>20</td>\n",
       "    </tr>\n",
       "    <tr>\n",
       "      <th>18</th>\n",
       "      <td>2.0</td>\n",
       "      <td>0</td>\n",
       "      <td>-0.058897</td>\n",
       "      <td>8.229995</td>\n",
       "      <td>0.179077</td>\n",
       "      <td>-0.040938</td>\n",
       "      <td>0.424184</td>\n",
       "      <td>0.2596</td>\n",
       "      <td>0.375000</td>\n",
       "      <td>4.383727</td>\n",
       "      <td>0.030350</td>\n",
       "      <td>21</td>\n",
       "    </tr>\n",
       "    <tr>\n",
       "      <th>19</th>\n",
       "      <td>2.0</td>\n",
       "      <td>0</td>\n",
       "      <td>-0.068435</td>\n",
       "      <td>8.224819</td>\n",
       "      <td>0.171930</td>\n",
       "      <td>0.008511</td>\n",
       "      <td>0.491793</td>\n",
       "      <td>0.2608</td>\n",
       "      <td>0.333333</td>\n",
       "      <td>2.066046</td>\n",
       "      <td>0.024949</td>\n",
       "      <td>22</td>\n",
       "    </tr>\n",
       "  </tbody>\n",
       "</table>\n",
       "</div>"
      ],
      "text/plain": [
       "    合计发明专利申请量  group       ROA  size(企业规模）     资本密集度  OCF（经营活动现金流比率）  \\\n",
       "15        0.0      0 -0.015321    8.330962  0.180441        0.001892   \n",
       "16        0.0      0 -0.119186    8.192759  0.208786        0.070962   \n",
       "17        0.0      0  0.014954    8.310278  0.165953       -0.043921   \n",
       "18        2.0      0 -0.058897    8.229995  0.179077       -0.040938   \n",
       "19        2.0      0 -0.068435    8.224819  0.171930        0.008511   \n",
       "\n",
       "    lev（资产负债率）  TOP1(第一大股东持股占比)      独董占比  TobinQ(市值A)       HHI  age1公司成立日期年龄  \n",
       "15    0.427696           0.3794  0.333333     2.040061  0.031119            18  \n",
       "16    0.358844           0.3794  0.333333     1.788395  0.031789            19  \n",
       "17    0.450415           0.2844  0.333333     1.703456  0.031721            20  \n",
       "18    0.424184           0.2596  0.375000     4.383727  0.030350            21  \n",
       "19    0.491793           0.2608  0.333333     2.066046  0.024949            22  "
      ]
     },
     "execution_count": 13,
     "metadata": {},
     "output_type": "execute_result"
    }
   ],
   "source": [
    "aim_df.head()"
   ]
  },
  {
   "cell_type": "code",
   "execution_count": 14,
   "metadata": {},
   "outputs": [
    {
     "data": {
      "text/plain": [
       "(23447, 12)"
      ]
     },
     "execution_count": 14,
     "metadata": {},
     "output_type": "execute_result"
    }
   ],
   "source": [
    "aim_df.shape"
   ]
  },
  {
   "cell_type": "code",
   "execution_count": 15,
   "metadata": {},
   "outputs": [],
   "source": [
    "y_raw = aim_df.pop('合计发明专利申请量')"
   ]
  },
  {
   "cell_type": "code",
   "execution_count": 16,
   "metadata": {},
   "outputs": [
    {
     "data": {
      "text/plain": [
       "(23447, 11)"
      ]
     },
     "execution_count": 16,
     "metadata": {},
     "output_type": "execute_result"
    }
   ],
   "source": [
    "aim_df.shape"
   ]
  },
  {
   "cell_type": "code",
   "execution_count": 17,
   "metadata": {},
   "outputs": [],
   "source": [
    "y = np.log(y_raw + 1)"
   ]
  },
  {
   "cell_type": "code",
   "execution_count": 18,
   "metadata": {},
   "outputs": [
    {
     "data": {
      "text/plain": [
       "15    0.000000\n",
       "16    0.000000\n",
       "17    0.000000\n",
       "18    1.098612\n",
       "19    1.098612\n",
       "20    0.693147\n",
       "21    0.693147\n",
       "22    0.000000\n",
       "23    0.000000\n",
       "24    0.000000\n",
       "25    2.564949\n",
       "26    0.693147\n",
       "27    0.000000\n",
       "28    0.693147\n",
       "70    0.000000\n",
       "71    0.000000\n",
       "72    0.000000\n",
       "73    0.000000\n",
       "74    0.000000\n",
       "75    0.000000\n",
       "Name: 合计发明专利申请量, dtype: float64"
      ]
     },
     "execution_count": 18,
     "metadata": {},
     "output_type": "execute_result"
    }
   ],
   "source": [
    "y.head(20)"
   ]
  },
  {
   "cell_type": "code",
   "execution_count": 19,
   "metadata": {},
   "outputs": [
    {
     "data": {
      "text/plain": [
       "count    23447.000000\n",
       "mean         1.453899\n",
       "std          1.555694\n",
       "min          0.000000\n",
       "25%          0.000000\n",
       "50%          1.098612\n",
       "75%          2.484907\n",
       "max          9.312536\n",
       "Name: 合计发明专利申请量, dtype: float64"
      ]
     },
     "execution_count": 19,
     "metadata": {},
     "output_type": "execute_result"
    }
   ],
   "source": [
    "y.describe()"
   ]
  },
  {
   "cell_type": "code",
   "execution_count": 20,
   "metadata": {},
   "outputs": [
    {
     "data": {
      "text/plain": [
       "count    23447.000000\n",
       "mean        25.603318\n",
       "std        205.606124\n",
       "min          0.000000\n",
       "25%          0.000000\n",
       "50%          2.000000\n",
       "75%         11.000000\n",
       "max      11075.000000\n",
       "Name: 合计发明专利申请量, dtype: float64"
      ]
     },
     "execution_count": 20,
     "metadata": {},
     "output_type": "execute_result"
    }
   ],
   "source": [
    "y_raw.describe()"
   ]
  },
  {
   "cell_type": "code",
   "execution_count": 21,
   "metadata": {},
   "outputs": [],
   "source": [
    "X = aim_df"
   ]
  },
  {
   "cell_type": "code",
   "execution_count": 22,
   "metadata": {},
   "outputs": [
    {
     "data": {
      "text/html": [
       "<div>\n",
       "<style scoped>\n",
       "    .dataframe tbody tr th:only-of-type {\n",
       "        vertical-align: middle;\n",
       "    }\n",
       "\n",
       "    .dataframe tbody tr th {\n",
       "        vertical-align: top;\n",
       "    }\n",
       "\n",
       "    .dataframe thead th {\n",
       "        text-align: right;\n",
       "    }\n",
       "</style>\n",
       "<table border=\"1\" class=\"dataframe\">\n",
       "  <thead>\n",
       "    <tr style=\"text-align: right;\">\n",
       "      <th></th>\n",
       "      <th>group</th>\n",
       "      <th>ROA</th>\n",
       "      <th>size(企业规模）</th>\n",
       "      <th>资本密集度</th>\n",
       "      <th>OCF（经营活动现金流比率）</th>\n",
       "      <th>lev（资产负债率）</th>\n",
       "      <th>TOP1(第一大股东持股占比)</th>\n",
       "      <th>独董占比</th>\n",
       "      <th>TobinQ(市值A)</th>\n",
       "      <th>HHI</th>\n",
       "      <th>age1公司成立日期年龄</th>\n",
       "    </tr>\n",
       "  </thead>\n",
       "  <tbody>\n",
       "    <tr>\n",
       "      <th>15</th>\n",
       "      <td>0</td>\n",
       "      <td>-0.015321</td>\n",
       "      <td>8.330962</td>\n",
       "      <td>0.180441</td>\n",
       "      <td>0.001892</td>\n",
       "      <td>0.427696</td>\n",
       "      <td>0.3794</td>\n",
       "      <td>0.333333</td>\n",
       "      <td>2.040061</td>\n",
       "      <td>0.031119</td>\n",
       "      <td>18</td>\n",
       "    </tr>\n",
       "    <tr>\n",
       "      <th>16</th>\n",
       "      <td>0</td>\n",
       "      <td>-0.119186</td>\n",
       "      <td>8.192759</td>\n",
       "      <td>0.208786</td>\n",
       "      <td>0.070962</td>\n",
       "      <td>0.358844</td>\n",
       "      <td>0.3794</td>\n",
       "      <td>0.333333</td>\n",
       "      <td>1.788395</td>\n",
       "      <td>0.031789</td>\n",
       "      <td>19</td>\n",
       "    </tr>\n",
       "    <tr>\n",
       "      <th>17</th>\n",
       "      <td>0</td>\n",
       "      <td>0.014954</td>\n",
       "      <td>8.310278</td>\n",
       "      <td>0.165953</td>\n",
       "      <td>-0.043921</td>\n",
       "      <td>0.450415</td>\n",
       "      <td>0.2844</td>\n",
       "      <td>0.333333</td>\n",
       "      <td>1.703456</td>\n",
       "      <td>0.031721</td>\n",
       "      <td>20</td>\n",
       "    </tr>\n",
       "    <tr>\n",
       "      <th>18</th>\n",
       "      <td>0</td>\n",
       "      <td>-0.058897</td>\n",
       "      <td>8.229995</td>\n",
       "      <td>0.179077</td>\n",
       "      <td>-0.040938</td>\n",
       "      <td>0.424184</td>\n",
       "      <td>0.2596</td>\n",
       "      <td>0.375000</td>\n",
       "      <td>4.383727</td>\n",
       "      <td>0.030350</td>\n",
       "      <td>21</td>\n",
       "    </tr>\n",
       "    <tr>\n",
       "      <th>19</th>\n",
       "      <td>0</td>\n",
       "      <td>-0.068435</td>\n",
       "      <td>8.224819</td>\n",
       "      <td>0.171930</td>\n",
       "      <td>0.008511</td>\n",
       "      <td>0.491793</td>\n",
       "      <td>0.2608</td>\n",
       "      <td>0.333333</td>\n",
       "      <td>2.066046</td>\n",
       "      <td>0.024949</td>\n",
       "      <td>22</td>\n",
       "    </tr>\n",
       "    <tr>\n",
       "      <th>...</th>\n",
       "      <td>...</td>\n",
       "      <td>...</td>\n",
       "      <td>...</td>\n",
       "      <td>...</td>\n",
       "      <td>...</td>\n",
       "      <td>...</td>\n",
       "      <td>...</td>\n",
       "      <td>...</td>\n",
       "      <td>...</td>\n",
       "      <td>...</td>\n",
       "      <td>...</td>\n",
       "    </tr>\n",
       "    <tr>\n",
       "      <th>28242</th>\n",
       "      <td>0</td>\n",
       "      <td>0.092494</td>\n",
       "      <td>8.967747</td>\n",
       "      <td>0.158316</td>\n",
       "      <td>0.101421</td>\n",
       "      <td>0.093152</td>\n",
       "      <td>0.3669</td>\n",
       "      <td>0.333333</td>\n",
       "      <td>1.808544</td>\n",
       "      <td>0.019103</td>\n",
       "      <td>14</td>\n",
       "    </tr>\n",
       "    <tr>\n",
       "      <th>28243</th>\n",
       "      <td>0</td>\n",
       "      <td>0.090853</td>\n",
       "      <td>9.028032</td>\n",
       "      <td>0.219650</td>\n",
       "      <td>0.084913</td>\n",
       "      <td>0.126508</td>\n",
       "      <td>0.3669</td>\n",
       "      <td>0.333333</td>\n",
       "      <td>4.739523</td>\n",
       "      <td>0.018101</td>\n",
       "      <td>15</td>\n",
       "    </tr>\n",
       "    <tr>\n",
       "      <th>28244</th>\n",
       "      <td>0</td>\n",
       "      <td>0.057777</td>\n",
       "      <td>9.104146</td>\n",
       "      <td>0.210559</td>\n",
       "      <td>0.093391</td>\n",
       "      <td>0.229196</td>\n",
       "      <td>0.3631</td>\n",
       "      <td>0.375000</td>\n",
       "      <td>4.252455</td>\n",
       "      <td>0.016433</td>\n",
       "      <td>16</td>\n",
       "    </tr>\n",
       "    <tr>\n",
       "      <th>28245</th>\n",
       "      <td>0</td>\n",
       "      <td>0.047069</td>\n",
       "      <td>9.137653</td>\n",
       "      <td>0.269435</td>\n",
       "      <td>0.011656</td>\n",
       "      <td>0.244282</td>\n",
       "      <td>0.3641</td>\n",
       "      <td>0.428571</td>\n",
       "      <td>3.719860</td>\n",
       "      <td>0.015011</td>\n",
       "      <td>17</td>\n",
       "    </tr>\n",
       "    <tr>\n",
       "      <th>28246</th>\n",
       "      <td>0</td>\n",
       "      <td>0.048584</td>\n",
       "      <td>9.215547</td>\n",
       "      <td>0.247777</td>\n",
       "      <td>0.107181</td>\n",
       "      <td>0.322535</td>\n",
       "      <td>0.3655</td>\n",
       "      <td>0.428571</td>\n",
       "      <td>1.536670</td>\n",
       "      <td>0.015759</td>\n",
       "      <td>18</td>\n",
       "    </tr>\n",
       "  </tbody>\n",
       "</table>\n",
       "<p>23447 rows × 11 columns</p>\n",
       "</div>"
      ],
      "text/plain": [
       "       group       ROA  size(企业规模）     资本密集度  OCF（经营活动现金流比率）  lev（资产负债率）  \\\n",
       "15         0 -0.015321    8.330962  0.180441        0.001892    0.427696   \n",
       "16         0 -0.119186    8.192759  0.208786        0.070962    0.358844   \n",
       "17         0  0.014954    8.310278  0.165953       -0.043921    0.450415   \n",
       "18         0 -0.058897    8.229995  0.179077       -0.040938    0.424184   \n",
       "19         0 -0.068435    8.224819  0.171930        0.008511    0.491793   \n",
       "...      ...       ...         ...       ...             ...         ...   \n",
       "28242      0  0.092494    8.967747  0.158316        0.101421    0.093152   \n",
       "28243      0  0.090853    9.028032  0.219650        0.084913    0.126508   \n",
       "28244      0  0.057777    9.104146  0.210559        0.093391    0.229196   \n",
       "28245      0  0.047069    9.137653  0.269435        0.011656    0.244282   \n",
       "28246      0  0.048584    9.215547  0.247777        0.107181    0.322535   \n",
       "\n",
       "       TOP1(第一大股东持股占比)      独董占比  TobinQ(市值A)       HHI  age1公司成立日期年龄  \n",
       "15              0.3794  0.333333     2.040061  0.031119            18  \n",
       "16              0.3794  0.333333     1.788395  0.031789            19  \n",
       "17              0.2844  0.333333     1.703456  0.031721            20  \n",
       "18              0.2596  0.375000     4.383727  0.030350            21  \n",
       "19              0.2608  0.333333     2.066046  0.024949            22  \n",
       "...                ...       ...          ...       ...           ...  \n",
       "28242           0.3669  0.333333     1.808544  0.019103            14  \n",
       "28243           0.3669  0.333333     4.739523  0.018101            15  \n",
       "28244           0.3631  0.375000     4.252455  0.016433            16  \n",
       "28245           0.3641  0.428571     3.719860  0.015011            17  \n",
       "28246           0.3655  0.428571     1.536670  0.015759            18  \n",
       "\n",
       "[23447 rows x 11 columns]"
      ]
     },
     "execution_count": 22,
     "metadata": {},
     "output_type": "execute_result"
    }
   ],
   "source": [
    "X"
   ]
  },
  {
   "cell_type": "code",
   "execution_count": 23,
   "metadata": {},
   "outputs": [
    {
     "data": {
      "text/plain": [
       "LinearRegression()"
      ]
     },
     "execution_count": 23,
     "metadata": {},
     "output_type": "execute_result"
    }
   ],
   "source": [
    "linear.fit(X, y)"
   ]
  },
  {
   "cell_type": "code",
   "execution_count": 24,
   "metadata": {},
   "outputs": [
    {
     "data": {
      "text/plain": [
       "{'copy_X': True, 'fit_intercept': True, 'n_jobs': None, 'normalize': False}"
      ]
     },
     "execution_count": 24,
     "metadata": {},
     "output_type": "execute_result"
    }
   ],
   "source": [
    "linear.get_params()"
   ]
  },
  {
   "cell_type": "code",
   "execution_count": 25,
   "metadata": {},
   "outputs": [
    {
     "data": {
      "text/plain": [
       "array([ 0.08235565, -0.00991966,  1.31983938, -1.62873581,  0.51955308,\n",
       "       -0.02450001, -0.84424563,  1.330816  ,  0.04294071, -1.4604309 ,\n",
       "       -0.00271611])"
      ]
     },
     "execution_count": 25,
     "metadata": {},
     "output_type": "execute_result"
    }
   ],
   "source": [
    "linear.coef_"
   ]
  },
  {
   "cell_type": "code",
   "execution_count": 26,
   "metadata": {},
   "outputs": [
    {
     "data": {
      "text/plain": [
       "-10.82907074639992"
      ]
     },
     "execution_count": 26,
     "metadata": {},
     "output_type": "execute_result"
    }
   ],
   "source": [
    "linear.intercept_"
   ]
  },
  {
   "cell_type": "code",
   "execution_count": 27,
   "metadata": {},
   "outputs": [
    {
     "data": {
      "text/plain": [
       "Index(['group', 'ROA', 'size(企业规模）', '资本密集度', 'OCF（经营活动现金流比率）', 'lev（资产负债率）',\n",
       "       'TOP1(第一大股东持股占比)', '独董占比', 'TobinQ(市值A)', 'HHI', 'age1公司成立日期年龄'],\n",
       "      dtype='object')"
      ]
     },
     "execution_count": 27,
     "metadata": {},
     "output_type": "execute_result"
    }
   ],
   "source": [
    "X.columns"
   ]
  },
  {
   "cell_type": "code",
   "execution_count": 28,
   "metadata": {},
   "outputs": [
    {
     "data": {
      "text/plain": [
       "(23447, 11)"
      ]
     },
     "execution_count": 28,
     "metadata": {},
     "output_type": "execute_result"
    }
   ],
   "source": [
    "X.shape"
   ]
  },
  {
   "cell_type": "code",
   "execution_count": 29,
   "metadata": {},
   "outputs": [],
   "source": [
    "import statsmodels.api as sm\n",
    "import matplotlib.pyplot as plt\n",
    "from statsmodels.sandbox.regression.predstd import wls_prediction_std"
   ]
  },
  {
   "cell_type": "code",
   "execution_count": 30,
   "metadata": {},
   "outputs": [
    {
     "data": {
      "text/html": [
       "<table class=\"simpletable\">\n",
       "<caption>OLS Regression Results</caption>\n",
       "<tr>\n",
       "  <th>Dep. Variable:</th>        <td>合计发明专利申请量</td>    <th>  R-squared:         </th> <td>   0.260</td> \n",
       "</tr>\n",
       "<tr>\n",
       "  <th>Model:</th>                   <td>OLS</td>       <th>  Adj. R-squared:    </th> <td>   0.259</td> \n",
       "</tr>\n",
       "<tr>\n",
       "  <th>Method:</th>             <td>Least Squares</td>  <th>  F-statistic:       </th> <td>   747.4</td> \n",
       "</tr>\n",
       "<tr>\n",
       "  <th>Date:</th>             <td>Mon, 07 Sep 2020</td> <th>  Prob (F-statistic):</th>  <td>  0.00</td>  \n",
       "</tr>\n",
       "<tr>\n",
       "  <th>Time:</th>                 <td>14:22:14</td>     <th>  Log-Likelihood:    </th> <td> -40106.</td> \n",
       "</tr>\n",
       "<tr>\n",
       "  <th>No. Observations:</th>      <td> 23447</td>      <th>  AIC:               </th> <td>8.024e+04</td>\n",
       "</tr>\n",
       "<tr>\n",
       "  <th>Df Residuals:</th>          <td> 23435</td>      <th>  BIC:               </th> <td>8.033e+04</td>\n",
       "</tr>\n",
       "<tr>\n",
       "  <th>Df Model:</th>              <td>    11</td>      <th>                     </th>     <td> </td>    \n",
       "</tr>\n",
       "<tr>\n",
       "  <th>Covariance Type:</th>      <td>nonrobust</td>    <th>                     </th>     <td> </td>    \n",
       "</tr>\n",
       "</table>\n",
       "<table class=\"simpletable\">\n",
       "<tr>\n",
       "         <td></td>            <th>coef</th>     <th>std err</th>      <th>t</th>      <th>P>|t|</th>  <th>[0.025</th>    <th>0.975]</th>  \n",
       "</tr>\n",
       "<tr>\n",
       "  <th>const</th>           <td>  -10.8291</td> <td>    0.166</td> <td>  -65.221</td> <td> 0.000</td> <td>  -11.155</td> <td>  -10.504</td>\n",
       "</tr>\n",
       "<tr>\n",
       "  <th>group</th>           <td>    0.0824</td> <td>    0.020</td> <td>    4.100</td> <td> 0.000</td> <td>    0.043</td> <td>    0.122</td>\n",
       "</tr>\n",
       "<tr>\n",
       "  <th>ROA</th>             <td>   -0.0099</td> <td>    0.017</td> <td>   -0.578</td> <td> 0.563</td> <td>   -0.044</td> <td>    0.024</td>\n",
       "</tr>\n",
       "<tr>\n",
       "  <th>size(企业规模）</th>      <td>    1.3198</td> <td>    0.017</td> <td>   75.670</td> <td> 0.000</td> <td>    1.286</td> <td>    1.354</td>\n",
       "</tr>\n",
       "<tr>\n",
       "  <th>资本密集度</th>           <td>   -1.6287</td> <td>    0.052</td> <td>  -31.154</td> <td> 0.000</td> <td>   -1.731</td> <td>   -1.526</td>\n",
       "</tr>\n",
       "<tr>\n",
       "  <th>OCF（经营活动现金流比率）</th>  <td>    0.5196</td> <td>    0.107</td> <td>    4.838</td> <td> 0.000</td> <td>    0.309</td> <td>    0.730</td>\n",
       "</tr>\n",
       "<tr>\n",
       "  <th>lev（资产负债率）</th>      <td>   -0.0245</td> <td>    0.009</td> <td>   -2.656</td> <td> 0.008</td> <td>   -0.043</td> <td>   -0.006</td>\n",
       "</tr>\n",
       "<tr>\n",
       "  <th>TOP1(第一大股东持股占比)</th> <td>   -0.8442</td> <td>    0.061</td> <td>  -13.808</td> <td> 0.000</td> <td>   -0.964</td> <td>   -0.724</td>\n",
       "</tr>\n",
       "<tr>\n",
       "  <th>独董占比</th>            <td>    1.3308</td> <td>    0.162</td> <td>    8.222</td> <td> 0.000</td> <td>    1.014</td> <td>    1.648</td>\n",
       "</tr>\n",
       "<tr>\n",
       "  <th>TobinQ(市值A)</th>     <td>    0.0429</td> <td>    0.004</td> <td>   10.039</td> <td> 0.000</td> <td>    0.035</td> <td>    0.051</td>\n",
       "</tr>\n",
       "<tr>\n",
       "  <th>HHI</th>             <td>   -1.4604</td> <td>    0.077</td> <td>  -18.846</td> <td> 0.000</td> <td>   -1.612</td> <td>   -1.309</td>\n",
       "</tr>\n",
       "<tr>\n",
       "  <th>age1公司成立日期年龄</th>    <td>   -0.0027</td> <td>    0.002</td> <td>   -1.686</td> <td> 0.092</td> <td>   -0.006</td> <td>    0.000</td>\n",
       "</tr>\n",
       "</table>\n",
       "<table class=\"simpletable\">\n",
       "<tr>\n",
       "  <th>Omnibus:</th>       <td>472.941</td> <th>  Durbin-Watson:     </th> <td>   0.516</td> \n",
       "</tr>\n",
       "<tr>\n",
       "  <th>Prob(Omnibus):</th> <td> 0.000</td>  <th>  Jarque-Bera (JB):  </th> <td> 482.304</td> \n",
       "</tr>\n",
       "<tr>\n",
       "  <th>Skew:</th>          <td> 0.333</td>  <th>  Prob(JB):          </th> <td>1.86e-105</td>\n",
       "</tr>\n",
       "<tr>\n",
       "  <th>Kurtosis:</th>      <td> 2.779</td>  <th>  Cond. No.          </th> <td>    389.</td> \n",
       "</tr>\n",
       "</table><br/><br/>Notes:<br/>[1] Standard Errors assume that the covariance matrix of the errors is correctly specified."
      ],
      "text/plain": [
       "<class 'statsmodels.iolib.summary.Summary'>\n",
       "\"\"\"\n",
       "                            OLS Regression Results                            \n",
       "==============================================================================\n",
       "Dep. Variable:              合计发明专利申请量   R-squared:                       0.260\n",
       "Model:                            OLS   Adj. R-squared:                  0.259\n",
       "Method:                 Least Squares   F-statistic:                     747.4\n",
       "Date:                Mon, 07 Sep 2020   Prob (F-statistic):               0.00\n",
       "Time:                        14:22:14   Log-Likelihood:                -40106.\n",
       "No. Observations:               23447   AIC:                         8.024e+04\n",
       "Df Residuals:                   23435   BIC:                         8.033e+04\n",
       "Df Model:                          11                                         \n",
       "Covariance Type:            nonrobust                                         \n",
       "===================================================================================\n",
       "                      coef    std err          t      P>|t|      [0.025      0.975]\n",
       "-----------------------------------------------------------------------------------\n",
       "const             -10.8291      0.166    -65.221      0.000     -11.155     -10.504\n",
       "group               0.0824      0.020      4.100      0.000       0.043       0.122\n",
       "ROA                -0.0099      0.017     -0.578      0.563      -0.044       0.024\n",
       "size(企业规模）          1.3198      0.017     75.670      0.000       1.286       1.354\n",
       "资本密集度              -1.6287      0.052    -31.154      0.000      -1.731      -1.526\n",
       "OCF（经营活动现金流比率）      0.5196      0.107      4.838      0.000       0.309       0.730\n",
       "lev（资产负债率）         -0.0245      0.009     -2.656      0.008      -0.043      -0.006\n",
       "TOP1(第一大股东持股占比)    -0.8442      0.061    -13.808      0.000      -0.964      -0.724\n",
       "独董占比                1.3308      0.162      8.222      0.000       1.014       1.648\n",
       "TobinQ(市值A)         0.0429      0.004     10.039      0.000       0.035       0.051\n",
       "HHI                -1.4604      0.077    -18.846      0.000      -1.612      -1.309\n",
       "age1公司成立日期年龄       -0.0027      0.002     -1.686      0.092      -0.006       0.000\n",
       "==============================================================================\n",
       "Omnibus:                      472.941   Durbin-Watson:                   0.516\n",
       "Prob(Omnibus):                  0.000   Jarque-Bera (JB):              482.304\n",
       "Skew:                           0.333   Prob(JB):                    1.86e-105\n",
       "Kurtosis:                       2.779   Cond. No.                         389.\n",
       "==============================================================================\n",
       "\n",
       "Notes:\n",
       "[1] Standard Errors assume that the covariance matrix of the errors is correctly specified.\n",
       "\"\"\""
      ]
     },
     "execution_count": 30,
     "metadata": {},
     "output_type": "execute_result"
    }
   ],
   "source": [
    "ols_X = sm.add_constant(X)\n",
    "model = sm.OLS(y, ols_X).fit()\n",
    "summury1 = model.summary()\n",
    "model.summary()"
   ]
  },
  {
   "cell_type": "code",
   "execution_count": 31,
   "metadata": {},
   "outputs": [],
   "source": [
    "plt.rcParams['font.sans-serif'] = ['SimHei']\n",
    "plt.rcParams['axes.unicode_minus'] = False"
   ]
  },
  {
   "cell_type": "code",
   "execution_count": 32,
   "metadata": {},
   "outputs": [
    {
     "data": {
      "text/html": [
       "<div>\n",
       "<style scoped>\n",
       "    .dataframe tbody tr th:only-of-type {\n",
       "        vertical-align: middle;\n",
       "    }\n",
       "\n",
       "    .dataframe tbody tr th {\n",
       "        vertical-align: top;\n",
       "    }\n",
       "\n",
       "    .dataframe thead th {\n",
       "        text-align: right;\n",
       "    }\n",
       "</style>\n",
       "<table border=\"1\" class=\"dataframe\">\n",
       "  <thead>\n",
       "    <tr style=\"text-align: right;\">\n",
       "      <th></th>\n",
       "      <th>group</th>\n",
       "      <th>ROA</th>\n",
       "      <th>size(企业规模）</th>\n",
       "      <th>资本密集度</th>\n",
       "      <th>OCF（经营活动现金流比率）</th>\n",
       "      <th>lev（资产负债率）</th>\n",
       "      <th>TOP1(第一大股东持股占比)</th>\n",
       "      <th>独董占比</th>\n",
       "      <th>TobinQ(市值A)</th>\n",
       "      <th>HHI</th>\n",
       "      <th>age1公司成立日期年龄</th>\n",
       "    </tr>\n",
       "  </thead>\n",
       "  <tbody>\n",
       "    <tr>\n",
       "      <th>15</th>\n",
       "      <td>0</td>\n",
       "      <td>-0.015321</td>\n",
       "      <td>8.330962</td>\n",
       "      <td>0.180441</td>\n",
       "      <td>0.001892</td>\n",
       "      <td>0.427696</td>\n",
       "      <td>0.3794</td>\n",
       "      <td>0.333333</td>\n",
       "      <td>2.040061</td>\n",
       "      <td>0.031119</td>\n",
       "      <td>18</td>\n",
       "    </tr>\n",
       "    <tr>\n",
       "      <th>16</th>\n",
       "      <td>0</td>\n",
       "      <td>-0.119186</td>\n",
       "      <td>8.192759</td>\n",
       "      <td>0.208786</td>\n",
       "      <td>0.070962</td>\n",
       "      <td>0.358844</td>\n",
       "      <td>0.3794</td>\n",
       "      <td>0.333333</td>\n",
       "      <td>1.788395</td>\n",
       "      <td>0.031789</td>\n",
       "      <td>19</td>\n",
       "    </tr>\n",
       "    <tr>\n",
       "      <th>17</th>\n",
       "      <td>0</td>\n",
       "      <td>0.014954</td>\n",
       "      <td>8.310278</td>\n",
       "      <td>0.165953</td>\n",
       "      <td>-0.043921</td>\n",
       "      <td>0.450415</td>\n",
       "      <td>0.2844</td>\n",
       "      <td>0.333333</td>\n",
       "      <td>1.703456</td>\n",
       "      <td>0.031721</td>\n",
       "      <td>20</td>\n",
       "    </tr>\n",
       "    <tr>\n",
       "      <th>18</th>\n",
       "      <td>0</td>\n",
       "      <td>-0.058897</td>\n",
       "      <td>8.229995</td>\n",
       "      <td>0.179077</td>\n",
       "      <td>-0.040938</td>\n",
       "      <td>0.424184</td>\n",
       "      <td>0.2596</td>\n",
       "      <td>0.375000</td>\n",
       "      <td>4.383727</td>\n",
       "      <td>0.030350</td>\n",
       "      <td>21</td>\n",
       "    </tr>\n",
       "    <tr>\n",
       "      <th>19</th>\n",
       "      <td>0</td>\n",
       "      <td>-0.068435</td>\n",
       "      <td>8.224819</td>\n",
       "      <td>0.171930</td>\n",
       "      <td>0.008511</td>\n",
       "      <td>0.491793</td>\n",
       "      <td>0.2608</td>\n",
       "      <td>0.333333</td>\n",
       "      <td>2.066046</td>\n",
       "      <td>0.024949</td>\n",
       "      <td>22</td>\n",
       "    </tr>\n",
       "  </tbody>\n",
       "</table>\n",
       "</div>"
      ],
      "text/plain": [
       "    group       ROA  size(企业规模）     资本密集度  OCF（经营活动现金流比率）  lev（资产负债率）  \\\n",
       "15      0 -0.015321    8.330962  0.180441        0.001892    0.427696   \n",
       "16      0 -0.119186    8.192759  0.208786        0.070962    0.358844   \n",
       "17      0  0.014954    8.310278  0.165953       -0.043921    0.450415   \n",
       "18      0 -0.058897    8.229995  0.179077       -0.040938    0.424184   \n",
       "19      0 -0.068435    8.224819  0.171930        0.008511    0.491793   \n",
       "\n",
       "    TOP1(第一大股东持股占比)      独董占比  TobinQ(市值A)       HHI  age1公司成立日期年龄  \n",
       "15           0.3794  0.333333     2.040061  0.031119            18  \n",
       "16           0.3794  0.333333     1.788395  0.031789            19  \n",
       "17           0.2844  0.333333     1.703456  0.031721            20  \n",
       "18           0.2596  0.375000     4.383727  0.030350            21  \n",
       "19           0.2608  0.333333     2.066046  0.024949            22  "
      ]
     },
     "execution_count": 32,
     "metadata": {},
     "output_type": "execute_result"
    }
   ],
   "source": [
    "X.head()"
   ]
  },
  {
   "cell_type": "code",
   "execution_count": 33,
   "metadata": {},
   "outputs": [
    {
     "data": {
      "image/png": "[encoded data removed]",
      "text/plain": [
       "<Figure size 432x288 with 1 Axes>"
      ]
     },
     "metadata": {
      "needs_background": "light"
     },
     "output_type": "display_data"
    }
   ],
   "source": [
    "predicts = model.predict(ols_X) # 模型的预测值\n",
    "plt.scatter(X['age1公司成立日期年龄'][:20], y[:20], label='实际值') # 散点图\n",
    "plt.scatter(X['age1公司成立日期年龄'][:20], predicts[:20], color = 'red', label='预测值')\n",
    "plt.legend() # 显示图例，即每条线对应 label 中的内容\n",
    "plt.show() # 显示图形"
   ]
  },
  {
   "cell_type": "code",
   "execution_count": 34,
   "metadata": {},
   "outputs": [
    {
     "data": {
      "text/plain": [
       "15      -0.020211\n",
       "16      -0.224680\n",
       "17       0.010866\n",
       "18       0.077222\n",
       "19      -0.044654\n",
       "           ...   \n",
       "28242    0.944141\n",
       "28243    1.039040\n",
       "28244    1.193985\n",
       "28245    1.146525\n",
       "28246    1.233570\n",
       "Length: 23447, dtype: float64"
      ]
     },
     "execution_count": 34,
     "metadata": {},
     "output_type": "execute_result"
    }
   ],
   "source": [
    "predicts"
   ]
  },
  {
   "cell_type": "code",
   "execution_count": 35,
   "metadata": {},
   "outputs": [
    {
     "data": {
      "text/plain": [
       "15       0.000000\n",
       "16       0.000000\n",
       "17       0.000000\n",
       "18       1.098612\n",
       "19       1.098612\n",
       "           ...   \n",
       "28242    1.098612\n",
       "28243    1.386294\n",
       "28244    1.386294\n",
       "28245    1.609438\n",
       "28246    1.098612\n",
       "Name: 合计发明专利申请量, Length: 23447, dtype: float64"
      ]
     },
     "execution_count": 35,
     "metadata": {},
     "output_type": "execute_result"
    }
   ],
   "source": [
    "y"
   ]
  },
  {
   "cell_type": "code",
   "execution_count": 36,
   "metadata": {},
   "outputs": [],
   "source": [
    "errors = (predicts - y) ** 2"
   ]
  },
  {
   "cell_type": "code",
   "execution_count": 37,
   "metadata": {},
   "outputs": [
    {
     "data": {
      "text/plain": [
       "15       0.000408\n",
       "16       0.050481\n",
       "17       0.000118\n",
       "18       1.043239\n",
       "19       1.307059\n",
       "           ...   \n",
       "28242    0.023861\n",
       "28243    0.120586\n",
       "28244    0.036983\n",
       "28245    0.214289\n",
       "28246    0.018213\n",
       "Length: 23447, dtype: float64"
      ]
     },
     "execution_count": 37,
     "metadata": {},
     "output_type": "execute_result"
    }
   ],
   "source": [
    "errors"
   ]
  },
  {
   "cell_type": "code",
   "execution_count": 38,
   "metadata": {},
   "outputs": [
    {
     "data": {
      "text/plain": [
       "count    2.344700e+04\n",
       "mean     1.791564e+00\n",
       "std      2.389573e+00\n",
       "min      1.371090e-08\n",
       "25%      2.522798e-01\n",
       "50%      9.538773e-01\n",
       "75%      2.416597e+00\n",
       "max      3.249794e+01\n",
       "dtype: float64"
      ]
     },
     "execution_count": 38,
     "metadata": {},
     "output_type": "execute_result"
    }
   ],
   "source": [
    "errors.describe()"
   ]
  },
  {
   "cell_type": "code",
   "execution_count": 39,
   "metadata": {},
   "outputs": [
    {
     "data": {
      "text/plain": [
       "(23447,)"
      ]
     },
     "execution_count": 39,
     "metadata": {},
     "output_type": "execute_result"
    }
   ],
   "source": [
    "errors.shape"
   ]
  },
  {
   "cell_type": "markdown",
   "metadata": {},
   "source": [
    "- 排序"
   ]
  },
  {
   "cell_type": "code",
   "execution_count": 59,
   "metadata": {},
   "outputs": [
    {
     "data": {
      "text/plain": [
       "15       0.000408\n",
       "16       0.050481\n",
       "17       0.000118\n",
       "18       1.043239\n",
       "19       1.307059\n",
       "           ...   \n",
       "28242    0.023861\n",
       "28243    0.120586\n",
       "28244    0.036983\n",
       "28245    0.214289\n",
       "28246    0.018213\n",
       "Length: 23447, dtype: float64"
      ]
     },
     "execution_count": 59,
     "metadata": {},
     "output_type": "execute_result"
    }
   ],
   "source": [
    "errors"
   ]
  },
  {
   "cell_type": "code",
   "execution_count": 43,
   "metadata": {},
   "outputs": [],
   "source": [
    "err_sort = errors.sort_values()"
   ]
  },
  {
   "cell_type": "code",
   "execution_count": 44,
   "metadata": {},
   "outputs": [
    {
     "data": {
      "text/plain": [
       "23447"
      ]
     },
     "execution_count": 44,
     "metadata": {},
     "output_type": "execute_result"
    }
   ],
   "source": [
    "len(err_sort)"
   ]
  },
  {
   "cell_type": "code",
   "execution_count": 48,
   "metadata": {},
   "outputs": [],
   "source": [
    "ration = int(len(err_sort) * 0.8)"
   ]
  },
  {
   "cell_type": "code",
   "execution_count": 49,
   "metadata": {},
   "outputs": [
    {
     "data": {
      "text/plain": [
       "18757"
      ]
     },
     "execution_count": 49,
     "metadata": {},
     "output_type": "execute_result"
    }
   ],
   "source": [
    "ration"
   ]
  },
  {
   "cell_type": "code",
   "execution_count": 53,
   "metadata": {},
   "outputs": [
    {
     "data": {
      "text/plain": [
       "11287    1.371090e-08\n",
       "20547    2.317511e-08\n",
       "2383     3.212403e-08\n",
       "14854    4.682409e-08\n",
       "7805     7.810382e-08\n",
       "             ...     \n",
       "8381     2.929105e+00\n",
       "9562     2.929614e+00\n",
       "6389     2.930964e+00\n",
       "24886    2.932225e+00\n",
       "1765     2.932572e+00\n",
       "Length: 18757, dtype: float64"
      ]
     },
     "execution_count": 53,
     "metadata": {},
     "output_type": "execute_result"
    }
   ],
   "source": [
    "select_err_sort = err_sort[:ration]\n",
    "select_err_sort"
   ]
  },
  {
   "cell_type": "code",
   "execution_count": 55,
   "metadata": {},
   "outputs": [
    {
     "data": {
      "text/plain": [
       "15       0.000408\n",
       "16       0.050481\n",
       "17       0.000118\n",
       "18       1.043239\n",
       "19       1.307059\n",
       "           ...   \n",
       "28242    0.023861\n",
       "28243    0.120586\n",
       "28244    0.036983\n",
       "28245    0.214289\n",
       "28246    0.018213\n",
       "Length: 18757, dtype: float64"
      ]
     },
     "execution_count": 55,
     "metadata": {},
     "output_type": "execute_result"
    }
   ],
   "source": [
    "select_err_sort.sort_index()"
   ]
  },
  {
   "cell_type": "code",
   "execution_count": 57,
   "metadata": {},
   "outputs": [],
   "source": [
    "select_err = err_sort[:ration].sort_index()"
   ]
  },
  {
   "cell_type": "code",
   "execution_count": 58,
   "metadata": {},
   "outputs": [
    {
     "data": {
      "text/plain": [
       "15       0.000408\n",
       "16       0.050481\n",
       "17       0.000118\n",
       "18       1.043239\n",
       "19       1.307059\n",
       "           ...   \n",
       "28242    0.023861\n",
       "28243    0.120586\n",
       "28244    0.036983\n",
       "28245    0.214289\n",
       "28246    0.018213\n",
       "Length: 18757, dtype: float64"
      ]
     },
     "execution_count": 58,
     "metadata": {},
     "output_type": "execute_result"
    }
   ],
   "source": [
    "select_err"
   ]
  },
  {
   "cell_type": "code",
   "execution_count": null,
   "metadata": {},
   "outputs": [],
   "source": []
  },
  {
   "cell_type": "code",
   "execution_count": null,
   "metadata": {},
   "outputs": [],
   "source": []
  },
  {
   "cell_type": "code",
   "execution_count": null,
   "metadata": {},
   "outputs": [],
   "source": []
  },
  {
   "cell_type": "code",
   "execution_count": null,
   "metadata": {},
   "outputs": [],
   "source": []
  },
  {
   "cell_type": "markdown",
   "metadata": {},
   "source": [
    "丢弃>75%数量的数据（距离太远的）"
   ]
  },
  {
   "cell_type": "code",
   "execution_count": 176,
   "metadata": {},
   "outputs": [],
   "source": [
    "del_75 = errors[errors<errors.describe()['75%']].index"
   ]
  },
  {
   "cell_type": "code",
   "execution_count": 178,
   "metadata": {},
   "outputs": [
    {
     "data": {
      "text/plain": [
       "Int64Index([   15,    16,    17,    18,    19,    20,    21,    22,    23,\n",
       "               24,\n",
       "            ...\n",
       "            28231, 28234, 28235, 28236, 28237, 28242, 28243, 28244, 28245,\n",
       "            28246],\n",
       "           dtype='int64', length=17585)"
      ]
     },
     "execution_count": 178,
     "metadata": {},
     "output_type": "execute_result"
    }
   ],
   "source": [
    "errors[errors<errors.describe()['75%']].index"
   ]
  },
  {
   "cell_type": "code",
   "execution_count": 130,
   "metadata": {},
   "outputs": [
    {
     "data": {
      "text/plain": [
       "Int64Index([   25,    82,    83,    85,    89,   120,   122,   123,   124,\n",
       "              125,\n",
       "            ...\n",
       "            27943, 27944, 27945, 27946, 27947, 27991, 27993, 27994, 28232,\n",
       "            28233],\n",
       "           dtype='int64', length=5862)"
      ]
     },
     "execution_count": 130,
     "metadata": {},
     "output_type": "execute_result"
    }
   ],
   "source": [
    "del_75"
   ]
  },
  {
   "cell_type": "code",
   "execution_count": 123,
   "metadata": {},
   "outputs": [
    {
     "data": {
      "text/plain": [
       "25       2.773307\n",
       "82       6.281172\n",
       "83       7.045956\n",
       "85       4.113355\n",
       "89       5.057373\n",
       "           ...   \n",
       "27991    3.678657\n",
       "27993    2.791019\n",
       "27994    2.969843\n",
       "28232    3.129575\n",
       "28233    4.192899\n",
       "Length: 5862, dtype: float64"
      ]
     },
     "execution_count": 123,
     "metadata": {},
     "output_type": "execute_result"
    }
   ],
   "source": [
    "errors[errors>errors.describe()['75%']]"
   ]
  },
  {
   "cell_type": "code",
   "execution_count": 124,
   "metadata": {},
   "outputs": [
    {
     "data": {
      "text/plain": [
       "18       1.043239\n",
       "19       1.307059\n",
       "25       2.773307\n",
       "81       1.293924\n",
       "82       6.281172\n",
       "           ...   \n",
       "27993    2.791019\n",
       "27994    2.969843\n",
       "28232    3.129575\n",
       "28233    4.192899\n",
       "28237    1.485282\n",
       "Length: 11723, dtype: float64"
      ]
     },
     "execution_count": 124,
     "metadata": {},
     "output_type": "execute_result"
    }
   ],
   "source": [
    "errors[errors>errors.describe()['50%']]"
   ]
  },
  {
   "cell_type": "code",
   "execution_count": 125,
   "metadata": {},
   "outputs": [
    {
     "data": {
      "text/plain": [
       "18       1.043239\n",
       "19       1.307059\n",
       "24       0.283149\n",
       "25       2.773307\n",
       "27       0.286496\n",
       "           ...   \n",
       "28233    4.192899\n",
       "28234    0.469549\n",
       "28235    0.344374\n",
       "28236    0.619427\n",
       "28237    1.485282\n",
       "Length: 17585, dtype: float64"
      ]
     },
     "execution_count": 125,
     "metadata": {},
     "output_type": "execute_result"
    }
   ],
   "source": [
    "errors[errors>errors.describe()['25%']]"
   ]
  },
  {
   "cell_type": "markdown",
   "metadata": {},
   "source": [
    "- 开始删距离预测值最远的25%数量的数据"
   ]
  },
  {
   "cell_type": "code",
   "execution_count": 128,
   "metadata": {},
   "outputs": [
    {
     "data": {
      "text/plain": [
       "((28251, 32), (23447, 11))"
      ]
     },
     "execution_count": 128,
     "metadata": {},
     "output_type": "execute_result"
    }
   ],
   "source": [
    "df.shape, aim_df.shape"
   ]
  },
  {
   "cell_type": "markdown",
   "metadata": {},
   "source": [
    "- 查看要删除的原始数据"
   ]
  },
  {
   "cell_type": "code",
   "execution_count": 162,
   "metadata": {},
   "outputs": [
    {
     "data": {
      "text/html": [
       "<div>\n",
       "<style scoped>\n",
       "    .dataframe tbody tr th:only-of-type {\n",
       "        vertical-align: middle;\n",
       "    }\n",
       "\n",
       "    .dataframe tbody tr th {\n",
       "        vertical-align: top;\n",
       "    }\n",
       "\n",
       "    .dataframe thead th {\n",
       "        text-align: right;\n",
       "    }\n",
       "</style>\n",
       "<table border=\"1\" class=\"dataframe\">\n",
       "  <thead>\n",
       "    <tr style=\"text-align: right;\">\n",
       "      <th></th>\n",
       "      <th>证券代码'</th>\n",
       "      <th>id</th>\n",
       "      <th>会计期间'</th>\n",
       "      <th>year</th>\n",
       "      <th>行业</th>\n",
       "      <th>code</th>\n",
       "      <th>合计发明专利申请量</th>\n",
       "      <th>总申请量</th>\n",
       "      <th>合计发明专利授权量</th>\n",
       "      <th>各年被引用次数_y</th>\n",
       "      <th>...</th>\n",
       "      <th>资本密集度</th>\n",
       "      <th>OCF（经营活动现金流比率）</th>\n",
       "      <th>lev（资产负债率）</th>\n",
       "      <th>TOP1(第一大股东持股占比)</th>\n",
       "      <th>独董占比</th>\n",
       "      <th>TobinQ(市值A)</th>\n",
       "      <th>HHI</th>\n",
       "      <th>age1公司成立日期年龄</th>\n",
       "      <th>age2上市日期年龄</th>\n",
       "      <th>rd</th>\n",
       "    </tr>\n",
       "  </thead>\n",
       "  <tbody>\n",
       "    <tr>\n",
       "      <th>25</th>\n",
       "      <td>4</td>\n",
       "      <td>4</td>\n",
       "      <td>2015-12-31</td>\n",
       "      <td>2015</td>\n",
       "      <td>医药制造业</td>\n",
       "      <td>1</td>\n",
       "      <td>12.0</td>\n",
       "      <td>12.0</td>\n",
       "      <td>8.0</td>\n",
       "      <td>2.0</td>\n",
       "      <td>...</td>\n",
       "      <td>0.094771</td>\n",
       "      <td>0.023232</td>\n",
       "      <td>0.590402</td>\n",
       "      <td>0.2842</td>\n",
       "      <td>0.333333</td>\n",
       "      <td>10.146903</td>\n",
       "      <td>0.018101</td>\n",
       "      <td>29</td>\n",
       "      <td>24</td>\n",
       "      <td>NaN</td>\n",
       "    </tr>\n",
       "    <tr>\n",
       "      <th>82</th>\n",
       "      <td>8</td>\n",
       "      <td>8</td>\n",
       "      <td>2016-12-31</td>\n",
       "      <td>2016</td>\n",
       "      <td>交通运输设备制造业</td>\n",
       "      <td>23</td>\n",
       "      <td>0.0</td>\n",
       "      <td>4.0</td>\n",
       "      <td>0.0</td>\n",
       "      <td>NaN</td>\n",
       "      <td>...</td>\n",
       "      <td>0.022316</td>\n",
       "      <td>-0.006851</td>\n",
       "      <td>0.246583</td>\n",
       "      <td>0.1246</td>\n",
       "      <td>0.428571</td>\n",
       "      <td>2.299946</td>\n",
       "      <td>0.132032</td>\n",
       "      <td>27</td>\n",
       "      <td>24</td>\n",
       "      <td>0.016694</td>\n",
       "    </tr>\n",
       "    <tr>\n",
       "      <th>83</th>\n",
       "      <td>8</td>\n",
       "      <td>8</td>\n",
       "      <td>2017-12-31</td>\n",
       "      <td>2017</td>\n",
       "      <td>交通运输设备制造业</td>\n",
       "      <td>23</td>\n",
       "      <td>0.0</td>\n",
       "      <td>4.0</td>\n",
       "      <td>0.0</td>\n",
       "      <td>NaN</td>\n",
       "      <td>...</td>\n",
       "      <td>0.022952</td>\n",
       "      <td>-0.004959</td>\n",
       "      <td>0.326949</td>\n",
       "      <td>0.1242</td>\n",
       "      <td>0.428571</td>\n",
       "      <td>2.166560</td>\n",
       "      <td>0.127497</td>\n",
       "      <td>28</td>\n",
       "      <td>25</td>\n",
       "      <td>0.019248</td>\n",
       "    </tr>\n",
       "    <tr>\n",
       "      <th>85</th>\n",
       "      <td>9</td>\n",
       "      <td>9</td>\n",
       "      <td>2004-12-31</td>\n",
       "      <td>2004</td>\n",
       "      <td>综合类</td>\n",
       "      <td>64</td>\n",
       "      <td>0.0</td>\n",
       "      <td>3.0</td>\n",
       "      <td>0.0</td>\n",
       "      <td>NaN</td>\n",
       "      <td>...</td>\n",
       "      <td>0.173856</td>\n",
       "      <td>0.029304</td>\n",
       "      <td>0.663205</td>\n",
       "      <td>0.1164</td>\n",
       "      <td>0.375000</td>\n",
       "      <td>1.196466</td>\n",
       "      <td>0.104491</td>\n",
       "      <td>14</td>\n",
       "      <td>13</td>\n",
       "      <td>NaN</td>\n",
       "    </tr>\n",
       "    <tr>\n",
       "      <th>89</th>\n",
       "      <td>9</td>\n",
       "      <td>9</td>\n",
       "      <td>2008-12-31</td>\n",
       "      <td>2008</td>\n",
       "      <td>综合类</td>\n",
       "      <td>64</td>\n",
       "      <td>0.0</td>\n",
       "      <td>0.0</td>\n",
       "      <td>0.0</td>\n",
       "      <td>220.0</td>\n",
       "      <td>...</td>\n",
       "      <td>0.147308</td>\n",
       "      <td>0.068724</td>\n",
       "      <td>0.589999</td>\n",
       "      <td>0.0834</td>\n",
       "      <td>0.375000</td>\n",
       "      <td>1.193601</td>\n",
       "      <td>0.088915</td>\n",
       "      <td>18</td>\n",
       "      <td>17</td>\n",
       "      <td>NaN</td>\n",
       "    </tr>\n",
       "  </tbody>\n",
       "</table>\n",
       "<p>5 rows × 32 columns</p>\n",
       "</div>"
      ],
      "text/plain": [
       "    证券代码'  id       会计期间'  year         行业  code  合计发明专利申请量  总申请量  合计发明专利授权量  \\\n",
       "25      4   4  2015-12-31  2015      医药制造业     1       12.0  12.0        8.0   \n",
       "82      8   8  2016-12-31  2016  交通运输设备制造业    23        0.0   4.0        0.0   \n",
       "83      8   8  2017-12-31  2017  交通运输设备制造业    23        0.0   4.0        0.0   \n",
       "85      9   9  2004-12-31  2004        综合类    64        0.0   3.0        0.0   \n",
       "89      9   9  2008-12-31  2008        综合类    64        0.0   0.0        0.0   \n",
       "\n",
       "    各年被引用次数_y  ...     资本密集度  OCF（经营活动现金流比率）  lev（资产负债率）  TOP1(第一大股东持股占比)  \\\n",
       "25        2.0  ...  0.094771        0.023232    0.590402           0.2842   \n",
       "82        NaN  ...  0.022316       -0.006851    0.246583           0.1246   \n",
       "83        NaN  ...  0.022952       -0.004959    0.326949           0.1242   \n",
       "85        NaN  ...  0.173856        0.029304    0.663205           0.1164   \n",
       "89      220.0  ...  0.147308        0.068724    0.589999           0.0834   \n",
       "\n",
       "        独董占比  TobinQ(市值A)       HHI  age1公司成立日期年龄  age2上市日期年龄        rd  \n",
       "25  0.333333    10.146903  0.018101            29          24       NaN  \n",
       "82  0.428571     2.299946  0.132032            27          24  0.016694  \n",
       "83  0.428571     2.166560  0.127497            28          25  0.019248  \n",
       "85  0.375000     1.196466  0.104491            14          13       NaN  \n",
       "89  0.375000     1.193601  0.088915            18          17       NaN  \n",
       "\n",
       "[5 rows x 32 columns]"
      ]
     },
     "execution_count": 162,
     "metadata": {},
     "output_type": "execute_result"
    }
   ],
   "source": [
    "df.loc[del_75, :].head()"
   ]
  },
  {
   "cell_type": "markdown",
   "metadata": {},
   "source": [
    "- 查看要要删除的，【选了列】，【去了空值】的数据"
   ]
  },
  {
   "cell_type": "code",
   "execution_count": 163,
   "metadata": {},
   "outputs": [
    {
     "data": {
      "text/html": [
       "<div>\n",
       "<style scoped>\n",
       "    .dataframe tbody tr th:only-of-type {\n",
       "        vertical-align: middle;\n",
       "    }\n",
       "\n",
       "    .dataframe tbody tr th {\n",
       "        vertical-align: top;\n",
       "    }\n",
       "\n",
       "    .dataframe thead th {\n",
       "        text-align: right;\n",
       "    }\n",
       "</style>\n",
       "<table border=\"1\" class=\"dataframe\">\n",
       "  <thead>\n",
       "    <tr style=\"text-align: right;\">\n",
       "      <th></th>\n",
       "      <th>group</th>\n",
       "      <th>ROA</th>\n",
       "      <th>size(企业规模）</th>\n",
       "      <th>资本密集度</th>\n",
       "      <th>OCF（经营活动现金流比率）</th>\n",
       "      <th>lev（资产负债率）</th>\n",
       "      <th>TOP1(第一大股东持股占比)</th>\n",
       "      <th>独董占比</th>\n",
       "      <th>TobinQ(市值A)</th>\n",
       "      <th>HHI</th>\n",
       "      <th>age1公司成立日期年龄</th>\n",
       "    </tr>\n",
       "  </thead>\n",
       "  <tbody>\n",
       "    <tr>\n",
       "      <th>25</th>\n",
       "      <td>0</td>\n",
       "      <td>0.017200</td>\n",
       "      <td>8.600617</td>\n",
       "      <td>0.094771</td>\n",
       "      <td>0.023232</td>\n",
       "      <td>0.590402</td>\n",
       "      <td>0.2842</td>\n",
       "      <td>0.333333</td>\n",
       "      <td>10.146903</td>\n",
       "      <td>0.018101</td>\n",
       "      <td>29</td>\n",
       "    </tr>\n",
       "    <tr>\n",
       "      <th>82</th>\n",
       "      <td>0</td>\n",
       "      <td>0.064758</td>\n",
       "      <td>9.913425</td>\n",
       "      <td>0.022316</td>\n",
       "      <td>-0.006851</td>\n",
       "      <td>0.246583</td>\n",
       "      <td>0.1246</td>\n",
       "      <td>0.428571</td>\n",
       "      <td>2.299946</td>\n",
       "      <td>0.132032</td>\n",
       "      <td>27</td>\n",
       "    </tr>\n",
       "    <tr>\n",
       "      <th>83</th>\n",
       "      <td>0</td>\n",
       "      <td>0.083310</td>\n",
       "      <td>10.028503</td>\n",
       "      <td>0.022952</td>\n",
       "      <td>-0.004959</td>\n",
       "      <td>0.326949</td>\n",
       "      <td>0.1242</td>\n",
       "      <td>0.428571</td>\n",
       "      <td>2.166560</td>\n",
       "      <td>0.127497</td>\n",
       "      <td>28</td>\n",
       "    </tr>\n",
       "    <tr>\n",
       "      <th>85</th>\n",
       "      <td>1</td>\n",
       "      <td>0.011016</td>\n",
       "      <td>9.696346</td>\n",
       "      <td>0.173856</td>\n",
       "      <td>0.029304</td>\n",
       "      <td>0.663205</td>\n",
       "      <td>0.1164</td>\n",
       "      <td>0.375000</td>\n",
       "      <td>1.196466</td>\n",
       "      <td>0.104491</td>\n",
       "      <td>14</td>\n",
       "    </tr>\n",
       "    <tr>\n",
       "      <th>89</th>\n",
       "      <td>1</td>\n",
       "      <td>0.044634</td>\n",
       "      <td>9.784174</td>\n",
       "      <td>0.147308</td>\n",
       "      <td>0.068724</td>\n",
       "      <td>0.589999</td>\n",
       "      <td>0.0834</td>\n",
       "      <td>0.375000</td>\n",
       "      <td>1.193601</td>\n",
       "      <td>0.088915</td>\n",
       "      <td>18</td>\n",
       "    </tr>\n",
       "    <tr>\n",
       "      <th>120</th>\n",
       "      <td>1</td>\n",
       "      <td>0.083806</td>\n",
       "      <td>10.037958</td>\n",
       "      <td>0.738070</td>\n",
       "      <td>0.153045</td>\n",
       "      <td>0.485852</td>\n",
       "      <td>0.0654</td>\n",
       "      <td>0.333333</td>\n",
       "      <td>1.912127</td>\n",
       "      <td>0.085478</td>\n",
       "      <td>25</td>\n",
       "    </tr>\n",
       "    <tr>\n",
       "      <th>122</th>\n",
       "      <td>1</td>\n",
       "      <td>0.087526</td>\n",
       "      <td>10.184163</td>\n",
       "      <td>0.617201</td>\n",
       "      <td>0.110496</td>\n",
       "      <td>0.521906</td>\n",
       "      <td>0.0362</td>\n",
       "      <td>0.333333</td>\n",
       "      <td>1.502386</td>\n",
       "      <td>0.085162</td>\n",
       "      <td>27</td>\n",
       "    </tr>\n",
       "    <tr>\n",
       "      <th>123</th>\n",
       "      <td>1</td>\n",
       "      <td>0.025796</td>\n",
       "      <td>10.156422</td>\n",
       "      <td>0.656986</td>\n",
       "      <td>0.120384</td>\n",
       "      <td>0.493004</td>\n",
       "      <td>0.0362</td>\n",
       "      <td>0.333333</td>\n",
       "      <td>1.474481</td>\n",
       "      <td>0.083597</td>\n",
       "      <td>28</td>\n",
       "    </tr>\n",
       "    <tr>\n",
       "      <th>124</th>\n",
       "      <td>1</td>\n",
       "      <td>0.107516</td>\n",
       "      <td>10.178369</td>\n",
       "      <td>0.529213</td>\n",
       "      <td>0.112665</td>\n",
       "      <td>0.442868</td>\n",
       "      <td>0.0362</td>\n",
       "      <td>0.333333</td>\n",
       "      <td>1.396454</td>\n",
       "      <td>0.084492</td>\n",
       "      <td>29</td>\n",
       "    </tr>\n",
       "    <tr>\n",
       "      <th>125</th>\n",
       "      <td>1</td>\n",
       "      <td>0.055877</td>\n",
       "      <td>10.184248</td>\n",
       "      <td>0.644522</td>\n",
       "      <td>0.092006</td>\n",
       "      <td>0.442985</td>\n",
       "      <td>0.0362</td>\n",
       "      <td>0.333333</td>\n",
       "      <td>1.428544</td>\n",
       "      <td>0.079582</td>\n",
       "      <td>30</td>\n",
       "    </tr>\n",
       "  </tbody>\n",
       "</table>\n",
       "</div>"
      ],
      "text/plain": [
       "     group       ROA  size(企业规模）     资本密集度  OCF（经营活动现金流比率）  lev（资产负债率）  \\\n",
       "25       0  0.017200    8.600617  0.094771        0.023232    0.590402   \n",
       "82       0  0.064758    9.913425  0.022316       -0.006851    0.246583   \n",
       "83       0  0.083310   10.028503  0.022952       -0.004959    0.326949   \n",
       "85       1  0.011016    9.696346  0.173856        0.029304    0.663205   \n",
       "89       1  0.044634    9.784174  0.147308        0.068724    0.589999   \n",
       "120      1  0.083806   10.037958  0.738070        0.153045    0.485852   \n",
       "122      1  0.087526   10.184163  0.617201        0.110496    0.521906   \n",
       "123      1  0.025796   10.156422  0.656986        0.120384    0.493004   \n",
       "124      1  0.107516   10.178369  0.529213        0.112665    0.442868   \n",
       "125      1  0.055877   10.184248  0.644522        0.092006    0.442985   \n",
       "\n",
       "     TOP1(第一大股东持股占比)      独董占比  TobinQ(市值A)       HHI  age1公司成立日期年龄  \n",
       "25            0.2842  0.333333    10.146903  0.018101            29  \n",
       "82            0.1246  0.428571     2.299946  0.132032            27  \n",
       "83            0.1242  0.428571     2.166560  0.127497            28  \n",
       "85            0.1164  0.375000     1.196466  0.104491            14  \n",
       "89            0.0834  0.375000     1.193601  0.088915            18  \n",
       "120           0.0654  0.333333     1.912127  0.085478            25  \n",
       "122           0.0362  0.333333     1.502386  0.085162            27  \n",
       "123           0.0362  0.333333     1.474481  0.083597            28  \n",
       "124           0.0362  0.333333     1.396454  0.084492            29  \n",
       "125           0.0362  0.333333     1.428544  0.079582            30  "
      ]
     },
     "execution_count": 163,
     "metadata": {},
     "output_type": "execute_result"
    }
   ],
   "source": [
    "aim_df.loc[del_75[:10], :]"
   ]
  },
  {
   "cell_type": "code",
   "execution_count": 179,
   "metadata": {},
   "outputs": [],
   "source": [
    "aim_df_75 = aim_df.loc[del_75, :]"
   ]
  },
  {
   "cell_type": "code",
   "execution_count": 185,
   "metadata": {},
   "outputs": [],
   "source": [
    "y_raw_75 = y_raw.loc[del_75]"
   ]
  },
  {
   "cell_type": "code",
   "execution_count": 187,
   "metadata": {},
   "outputs": [
    {
     "data": {
      "text/plain": [
       "((17585, 11), (17585,))"
      ]
     },
     "execution_count": 187,
     "metadata": {},
     "output_type": "execute_result"
    }
   ],
   "source": [
    "aim_df_75.shape, y_raw_75.shape"
   ]
  },
  {
   "cell_type": "code",
   "execution_count": 191,
   "metadata": {},
   "outputs": [
    {
     "data": {
      "text/html": [
       "<table class=\"simpletable\">\n",
       "<caption>OLS Regression Results</caption>\n",
       "<tr>\n",
       "  <th>Dep. Variable:</th>        <td>合计发明专利申请量</td>    <th>  R-squared:         </th> <td>   0.491</td> \n",
       "</tr>\n",
       "<tr>\n",
       "  <th>Model:</th>                   <td>OLS</td>       <th>  Adj. R-squared:    </th> <td>   0.491</td> \n",
       "</tr>\n",
       "<tr>\n",
       "  <th>Method:</th>             <td>Least Squares</td>  <th>  F-statistic:       </th> <td>   1544.</td> \n",
       "</tr>\n",
       "<tr>\n",
       "  <th>Date:</th>             <td>Sat, 05 Sep 2020</td> <th>  Prob (F-statistic):</th>  <td>  0.00</td>  \n",
       "</tr>\n",
       "<tr>\n",
       "  <th>Time:</th>                 <td>11:50:57</td>     <th>  Log-Likelihood:    </th> <td> -22126.</td> \n",
       "</tr>\n",
       "<tr>\n",
       "  <th>No. Observations:</th>      <td> 17585</td>      <th>  AIC:               </th> <td>4.428e+04</td>\n",
       "</tr>\n",
       "<tr>\n",
       "  <th>Df Residuals:</th>          <td> 17573</td>      <th>  BIC:               </th> <td>4.437e+04</td>\n",
       "</tr>\n",
       "<tr>\n",
       "  <th>Df Model:</th>              <td>    11</td>      <th>                     </th>     <td> </td>    \n",
       "</tr>\n",
       "<tr>\n",
       "  <th>Covariance Type:</th>      <td>nonrobust</td>    <th>                     </th>     <td> </td>    \n",
       "</tr>\n",
       "</table>\n",
       "<table class=\"simpletable\">\n",
       "<tr>\n",
       "         <td></td>            <th>coef</th>     <th>std err</th>      <th>t</th>      <th>P>|t|</th>  <th>[0.025</th>    <th>0.975]</th>  \n",
       "</tr>\n",
       "<tr>\n",
       "  <th>const</th>           <td>  -12.1383</td> <td>    0.130</td> <td>  -93.710</td> <td> 0.000</td> <td>  -12.392</td> <td>  -11.884</td>\n",
       "</tr>\n",
       "<tr>\n",
       "  <th>group</th>           <td>    0.0956</td> <td>    0.015</td> <td>    6.378</td> <td> 0.000</td> <td>    0.066</td> <td>    0.125</td>\n",
       "</tr>\n",
       "<tr>\n",
       "  <th>ROA</th>             <td>   -0.0231</td> <td>    0.012</td> <td>   -1.870</td> <td> 0.062</td> <td>   -0.047</td> <td>    0.001</td>\n",
       "</tr>\n",
       "<tr>\n",
       "  <th>size(企业规模）</th>      <td>    1.4569</td> <td>    0.014</td> <td>  105.730</td> <td> 0.000</td> <td>    1.430</td> <td>    1.484</td>\n",
       "</tr>\n",
       "<tr>\n",
       "  <th>资本密集度</th>           <td>   -1.9179</td> <td>    0.038</td> <td>  -50.049</td> <td> 0.000</td> <td>   -1.993</td> <td>   -1.843</td>\n",
       "</tr>\n",
       "<tr>\n",
       "  <th>OCF（经营活动现金流比率）</th>  <td>    0.5053</td> <td>    0.082</td> <td>    6.165</td> <td> 0.000</td> <td>    0.345</td> <td>    0.666</td>\n",
       "</tr>\n",
       "<tr>\n",
       "  <th>lev（资产负债率）</th>      <td>   -0.0374</td> <td>    0.012</td> <td>   -3.208</td> <td> 0.001</td> <td>   -0.060</td> <td>   -0.015</td>\n",
       "</tr>\n",
       "<tr>\n",
       "  <th>TOP1(第一大股东持股占比)</th> <td>   -1.1585</td> <td>    0.046</td> <td>  -25.364</td> <td> 0.000</td> <td>   -1.248</td> <td>   -1.069</td>\n",
       "</tr>\n",
       "<tr>\n",
       "  <th>独董占比</th>            <td>    1.5278</td> <td>    0.121</td> <td>   12.622</td> <td> 0.000</td> <td>    1.291</td> <td>    1.765</td>\n",
       "</tr>\n",
       "<tr>\n",
       "  <th>TobinQ(市值A)</th>     <td>    0.0477</td> <td>    0.004</td> <td>   13.078</td> <td> 0.000</td> <td>    0.041</td> <td>    0.055</td>\n",
       "</tr>\n",
       "<tr>\n",
       "  <th>HHI</th>             <td>   -1.5249</td> <td>    0.056</td> <td>  -27.253</td> <td> 0.000</td> <td>   -1.635</td> <td>   -1.415</td>\n",
       "</tr>\n",
       "<tr>\n",
       "  <th>age1公司成立日期年龄</th>    <td>   -0.0006</td> <td>    0.001</td> <td>   -0.510</td> <td> 0.610</td> <td>   -0.003</td> <td>    0.002</td>\n",
       "</tr>\n",
       "</table>\n",
       "<table class=\"simpletable\">\n",
       "<tr>\n",
       "  <th>Omnibus:</th>       <td>5314.170</td> <th>  Durbin-Watson:     </th> <td>   0.905</td> \n",
       "</tr>\n",
       "<tr>\n",
       "  <th>Prob(Omnibus):</th>  <td> 0.000</td>  <th>  Jarque-Bera (JB):  </th> <td> 868.401</td> \n",
       "</tr>\n",
       "<tr>\n",
       "  <th>Skew:</th>           <td> 0.148</td>  <th>  Prob(JB):          </th> <td>2.69e-189</td>\n",
       "</tr>\n",
       "<tr>\n",
       "  <th>Kurtosis:</th>       <td> 1.952</td>  <th>  Cond. No.          </th> <td>    394.</td> \n",
       "</tr>\n",
       "</table><br/><br/>Notes:<br/>[1] Standard Errors assume that the covariance matrix of the errors is correctly specified."
      ],
      "text/plain": [
       "<class 'statsmodels.iolib.summary.Summary'>\n",
       "\"\"\"\n",
       "                            OLS Regression Results                            \n",
       "==============================================================================\n",
       "Dep. Variable:              合计发明专利申请量   R-squared:                       0.491\n",
       "Model:                            OLS   Adj. R-squared:                  0.491\n",
       "Method:                 Least Squares   F-statistic:                     1544.\n",
       "Date:                Sat, 05 Sep 2020   Prob (F-statistic):               0.00\n",
       "Time:                        11:50:57   Log-Likelihood:                -22126.\n",
       "No. Observations:               17585   AIC:                         4.428e+04\n",
       "Df Residuals:                   17573   BIC:                         4.437e+04\n",
       "Df Model:                          11                                         \n",
       "Covariance Type:            nonrobust                                         \n",
       "===================================================================================\n",
       "                      coef    std err          t      P>|t|      [0.025      0.975]\n",
       "-----------------------------------------------------------------------------------\n",
       "const             -12.1383      0.130    -93.710      0.000     -12.392     -11.884\n",
       "group               0.0956      0.015      6.378      0.000       0.066       0.125\n",
       "ROA                -0.0231      0.012     -1.870      0.062      -0.047       0.001\n",
       "size(企业规模）          1.4569      0.014    105.730      0.000       1.430       1.484\n",
       "资本密集度              -1.9179      0.038    -50.049      0.000      -1.993      -1.843\n",
       "OCF（经营活动现金流比率）      0.5053      0.082      6.165      0.000       0.345       0.666\n",
       "lev（资产负债率）         -0.0374      0.012     -3.208      0.001      -0.060      -0.015\n",
       "TOP1(第一大股东持股占比)    -1.1585      0.046    -25.364      0.000      -1.248      -1.069\n",
       "独董占比                1.5278      0.121     12.622      0.000       1.291       1.765\n",
       "TobinQ(市值A)         0.0477      0.004     13.078      0.000       0.041       0.055\n",
       "HHI                -1.5249      0.056    -27.253      0.000      -1.635      -1.415\n",
       "age1公司成立日期年龄       -0.0006      0.001     -0.510      0.610      -0.003       0.002\n",
       "==============================================================================\n",
       "Omnibus:                     5314.170   Durbin-Watson:                   0.905\n",
       "Prob(Omnibus):                  0.000   Jarque-Bera (JB):              868.401\n",
       "Skew:                           0.148   Prob(JB):                    2.69e-189\n",
       "Kurtosis:                       1.952   Cond. No.                         394.\n",
       "==============================================================================\n",
       "\n",
       "Notes:\n",
       "[1] Standard Errors assume that the covariance matrix of the errors is correctly specified.\n",
       "\"\"\""
      ]
     },
     "execution_count": 191,
     "metadata": {},
     "output_type": "execute_result"
    }
   ],
   "source": [
    "y_75 = np.log(y_raw_75 + 1)\n",
    "X_75 = aim_df_75\n",
    "ols_X_75 = sm.add_constant(X_75)\n",
    "model = sm.OLS(y_75, ols_X_75).fit()\n",
    "summury75 = model.summary()\n",
    "model.summary()"
   ]
  },
  {
   "cell_type": "code",
   "execution_count": 199,
   "metadata": {},
   "outputs": [
    {
     "data": {
      "text/html": [
       "<table class=\"simpletable\">\n",
       "<caption>OLS Regression Results</caption>\n",
       "<tr>\n",
       "  <th>Dep. Variable:</th>        <td>合计发明专利申请量</td>    <th>  R-squared:         </th> <td>   0.260</td> \n",
       "</tr>\n",
       "<tr>\n",
       "  <th>Model:</th>                   <td>OLS</td>       <th>  Adj. R-squared:    </th> <td>   0.259</td> \n",
       "</tr>\n",
       "<tr>\n",
       "  <th>Method:</th>             <td>Least Squares</td>  <th>  F-statistic:       </th> <td>   747.4</td> \n",
       "</tr>\n",
       "<tr>\n",
       "  <th>Date:</th>             <td>Sat, 05 Sep 2020</td> <th>  Prob (F-statistic):</th>  <td>  0.00</td>  \n",
       "</tr>\n",
       "<tr>\n",
       "  <th>Time:</th>                 <td>11:50:41</td>     <th>  Log-Likelihood:    </th> <td> -40106.</td> \n",
       "</tr>\n",
       "<tr>\n",
       "  <th>No. Observations:</th>      <td> 23447</td>      <th>  AIC:               </th> <td>8.024e+04</td>\n",
       "</tr>\n",
       "<tr>\n",
       "  <th>Df Residuals:</th>          <td> 23435</td>      <th>  BIC:               </th> <td>8.033e+04</td>\n",
       "</tr>\n",
       "<tr>\n",
       "  <th>Df Model:</th>              <td>    11</td>      <th>                     </th>     <td> </td>    \n",
       "</tr>\n",
       "<tr>\n",
       "  <th>Covariance Type:</th>      <td>nonrobust</td>    <th>                     </th>     <td> </td>    \n",
       "</tr>\n",
       "</table>\n",
       "<table class=\"simpletable\">\n",
       "<tr>\n",
       "         <td></td>            <th>coef</th>     <th>std err</th>      <th>t</th>      <th>P>|t|</th>  <th>[0.025</th>    <th>0.975]</th>  \n",
       "</tr>\n",
       "<tr>\n",
       "  <th>const</th>           <td>  -10.8291</td> <td>    0.166</td> <td>  -65.221</td> <td> 0.000</td> <td>  -11.155</td> <td>  -10.504</td>\n",
       "</tr>\n",
       "<tr>\n",
       "  <th>group</th>           <td>    0.0824</td> <td>    0.020</td> <td>    4.100</td> <td> 0.000</td> <td>    0.043</td> <td>    0.122</td>\n",
       "</tr>\n",
       "<tr>\n",
       "  <th>ROA</th>             <td>   -0.0099</td> <td>    0.017</td> <td>   -0.578</td> <td> 0.563</td> <td>   -0.044</td> <td>    0.024</td>\n",
       "</tr>\n",
       "<tr>\n",
       "  <th>size(企业规模）</th>      <td>    1.3198</td> <td>    0.017</td> <td>   75.670</td> <td> 0.000</td> <td>    1.286</td> <td>    1.354</td>\n",
       "</tr>\n",
       "<tr>\n",
       "  <th>资本密集度</th>           <td>   -1.6287</td> <td>    0.052</td> <td>  -31.154</td> <td> 0.000</td> <td>   -1.731</td> <td>   -1.526</td>\n",
       "</tr>\n",
       "<tr>\n",
       "  <th>OCF（经营活动现金流比率）</th>  <td>    0.5196</td> <td>    0.107</td> <td>    4.838</td> <td> 0.000</td> <td>    0.309</td> <td>    0.730</td>\n",
       "</tr>\n",
       "<tr>\n",
       "  <th>lev（资产负债率）</th>      <td>   -0.0245</td> <td>    0.009</td> <td>   -2.656</td> <td> 0.008</td> <td>   -0.043</td> <td>   -0.006</td>\n",
       "</tr>\n",
       "<tr>\n",
       "  <th>TOP1(第一大股东持股占比)</th> <td>   -0.8442</td> <td>    0.061</td> <td>  -13.808</td> <td> 0.000</td> <td>   -0.964</td> <td>   -0.724</td>\n",
       "</tr>\n",
       "<tr>\n",
       "  <th>独董占比</th>            <td>    1.3308</td> <td>    0.162</td> <td>    8.222</td> <td> 0.000</td> <td>    1.014</td> <td>    1.648</td>\n",
       "</tr>\n",
       "<tr>\n",
       "  <th>TobinQ(市值A)</th>     <td>    0.0429</td> <td>    0.004</td> <td>   10.039</td> <td> 0.000</td> <td>    0.035</td> <td>    0.051</td>\n",
       "</tr>\n",
       "<tr>\n",
       "  <th>HHI</th>             <td>   -1.4604</td> <td>    0.077</td> <td>  -18.846</td> <td> 0.000</td> <td>   -1.612</td> <td>   -1.309</td>\n",
       "</tr>\n",
       "<tr>\n",
       "  <th>age1公司成立日期年龄</th>    <td>   -0.0027</td> <td>    0.002</td> <td>   -1.686</td> <td> 0.092</td> <td>   -0.006</td> <td>    0.000</td>\n",
       "</tr>\n",
       "</table>\n",
       "<table class=\"simpletable\">\n",
       "<tr>\n",
       "  <th>Omnibus:</th>       <td>472.941</td> <th>  Durbin-Watson:     </th> <td>   0.516</td> \n",
       "</tr>\n",
       "<tr>\n",
       "  <th>Prob(Omnibus):</th> <td> 0.000</td>  <th>  Jarque-Bera (JB):  </th> <td> 482.304</td> \n",
       "</tr>\n",
       "<tr>\n",
       "  <th>Skew:</th>          <td> 0.333</td>  <th>  Prob(JB):          </th> <td>1.86e-105</td>\n",
       "</tr>\n",
       "<tr>\n",
       "  <th>Kurtosis:</th>      <td> 2.779</td>  <th>  Cond. No.          </th> <td>    389.</td> \n",
       "</tr>\n",
       "</table><br/><br/>Notes:<br/>[1] Standard Errors assume that the covariance matrix of the errors is correctly specified."
      ],
      "text/plain": [
       "<class 'statsmodels.iolib.summary.Summary'>\n",
       "\"\"\"\n",
       "                            OLS Regression Results                            \n",
       "==============================================================================\n",
       "Dep. Variable:              合计发明专利申请量   R-squared:                       0.260\n",
       "Model:                            OLS   Adj. R-squared:                  0.259\n",
       "Method:                 Least Squares   F-statistic:                     747.4\n",
       "Date:                Sat, 05 Sep 2020   Prob (F-statistic):               0.00\n",
       "Time:                        11:50:41   Log-Likelihood:                -40106.\n",
       "No. Observations:               23447   AIC:                         8.024e+04\n",
       "Df Residuals:                   23435   BIC:                         8.033e+04\n",
       "Df Model:                          11                                         \n",
       "Covariance Type:            nonrobust                                         \n",
       "===================================================================================\n",
       "                      coef    std err          t      P>|t|      [0.025      0.975]\n",
       "-----------------------------------------------------------------------------------\n",
       "const             -10.8291      0.166    -65.221      0.000     -11.155     -10.504\n",
       "group               0.0824      0.020      4.100      0.000       0.043       0.122\n",
       "ROA                -0.0099      0.017     -0.578      0.563      -0.044       0.024\n",
       "size(企业规模）          1.3198      0.017     75.670      0.000       1.286       1.354\n",
       "资本密集度              -1.6287      0.052    -31.154      0.000      -1.731      -1.526\n",
       "OCF（经营活动现金流比率）      0.5196      0.107      4.838      0.000       0.309       0.730\n",
       "lev（资产负债率）         -0.0245      0.009     -2.656      0.008      -0.043      -0.006\n",
       "TOP1(第一大股东持股占比)    -0.8442      0.061    -13.808      0.000      -0.964      -0.724\n",
       "独董占比                1.3308      0.162      8.222      0.000       1.014       1.648\n",
       "TobinQ(市值A)         0.0429      0.004     10.039      0.000       0.035       0.051\n",
       "HHI                -1.4604      0.077    -18.846      0.000      -1.612      -1.309\n",
       "age1公司成立日期年龄       -0.0027      0.002     -1.686      0.092      -0.006       0.000\n",
       "==============================================================================\n",
       "Omnibus:                      472.941   Durbin-Watson:                   0.516\n",
       "Prob(Omnibus):                  0.000   Jarque-Bera (JB):              482.304\n",
       "Skew:                           0.333   Prob(JB):                    1.86e-105\n",
       "Kurtosis:                       2.779   Cond. No.                         389.\n",
       "==============================================================================\n",
       "\n",
       "Notes:\n",
       "[1] Standard Errors assume that the covariance matrix of the errors is correctly specified.\n",
       "\"\"\""
      ]
     },
     "execution_count": 199,
     "metadata": {},
     "output_type": "execute_result"
    }
   ],
   "source": [
    "summury1"
   ]
  },
  {
   "cell_type": "code",
   "execution_count": 200,
   "metadata": {},
   "outputs": [
    {
     "data": {
      "text/html": [
       "<table class=\"simpletable\">\n",
       "<caption>OLS Regression Results</caption>\n",
       "<tr>\n",
       "  <th>Dep. Variable:</th>        <td>合计发明专利申请量</td>    <th>  R-squared:         </th> <td>   0.491</td> \n",
       "</tr>\n",
       "<tr>\n",
       "  <th>Model:</th>                   <td>OLS</td>       <th>  Adj. R-squared:    </th> <td>   0.491</td> \n",
       "</tr>\n",
       "<tr>\n",
       "  <th>Method:</th>             <td>Least Squares</td>  <th>  F-statistic:       </th> <td>   1544.</td> \n",
       "</tr>\n",
       "<tr>\n",
       "  <th>Date:</th>             <td>Sat, 05 Sep 2020</td> <th>  Prob (F-statistic):</th>  <td>  0.00</td>  \n",
       "</tr>\n",
       "<tr>\n",
       "  <th>Time:</th>                 <td>11:50:57</td>     <th>  Log-Likelihood:    </th> <td> -22126.</td> \n",
       "</tr>\n",
       "<tr>\n",
       "  <th>No. Observations:</th>      <td> 17585</td>      <th>  AIC:               </th> <td>4.428e+04</td>\n",
       "</tr>\n",
       "<tr>\n",
       "  <th>Df Residuals:</th>          <td> 17573</td>      <th>  BIC:               </th> <td>4.437e+04</td>\n",
       "</tr>\n",
       "<tr>\n",
       "  <th>Df Model:</th>              <td>    11</td>      <th>                     </th>     <td> </td>    \n",
       "</tr>\n",
       "<tr>\n",
       "  <th>Covariance Type:</th>      <td>nonrobust</td>    <th>                     </th>     <td> </td>    \n",
       "</tr>\n",
       "</table>\n",
       "<table class=\"simpletable\">\n",
       "<tr>\n",
       "         <td></td>            <th>coef</th>     <th>std err</th>      <th>t</th>      <th>P>|t|</th>  <th>[0.025</th>    <th>0.975]</th>  \n",
       "</tr>\n",
       "<tr>\n",
       "  <th>const</th>           <td>  -12.1383</td> <td>    0.130</td> <td>  -93.710</td> <td> 0.000</td> <td>  -12.392</td> <td>  -11.884</td>\n",
       "</tr>\n",
       "<tr>\n",
       "  <th>group</th>           <td>    0.0956</td> <td>    0.015</td> <td>    6.378</td> <td> 0.000</td> <td>    0.066</td> <td>    0.125</td>\n",
       "</tr>\n",
       "<tr>\n",
       "  <th>ROA</th>             <td>   -0.0231</td> <td>    0.012</td> <td>   -1.870</td> <td> 0.062</td> <td>   -0.047</td> <td>    0.001</td>\n",
       "</tr>\n",
       "<tr>\n",
       "  <th>size(企业规模）</th>      <td>    1.4569</td> <td>    0.014</td> <td>  105.730</td> <td> 0.000</td> <td>    1.430</td> <td>    1.484</td>\n",
       "</tr>\n",
       "<tr>\n",
       "  <th>资本密集度</th>           <td>   -1.9179</td> <td>    0.038</td> <td>  -50.049</td> <td> 0.000</td> <td>   -1.993</td> <td>   -1.843</td>\n",
       "</tr>\n",
       "<tr>\n",
       "  <th>OCF（经营活动现金流比率）</th>  <td>    0.5053</td> <td>    0.082</td> <td>    6.165</td> <td> 0.000</td> <td>    0.345</td> <td>    0.666</td>\n",
       "</tr>\n",
       "<tr>\n",
       "  <th>lev（资产负债率）</th>      <td>   -0.0374</td> <td>    0.012</td> <td>   -3.208</td> <td> 0.001</td> <td>   -0.060</td> <td>   -0.015</td>\n",
       "</tr>\n",
       "<tr>\n",
       "  <th>TOP1(第一大股东持股占比)</th> <td>   -1.1585</td> <td>    0.046</td> <td>  -25.364</td> <td> 0.000</td> <td>   -1.248</td> <td>   -1.069</td>\n",
       "</tr>\n",
       "<tr>\n",
       "  <th>独董占比</th>            <td>    1.5278</td> <td>    0.121</td> <td>   12.622</td> <td> 0.000</td> <td>    1.291</td> <td>    1.765</td>\n",
       "</tr>\n",
       "<tr>\n",
       "  <th>TobinQ(市值A)</th>     <td>    0.0477</td> <td>    0.004</td> <td>   13.078</td> <td> 0.000</td> <td>    0.041</td> <td>    0.055</td>\n",
       "</tr>\n",
       "<tr>\n",
       "  <th>HHI</th>             <td>   -1.5249</td> <td>    0.056</td> <td>  -27.253</td> <td> 0.000</td> <td>   -1.635</td> <td>   -1.415</td>\n",
       "</tr>\n",
       "<tr>\n",
       "  <th>age1公司成立日期年龄</th>    <td>   -0.0006</td> <td>    0.001</td> <td>   -0.510</td> <td> 0.610</td> <td>   -0.003</td> <td>    0.002</td>\n",
       "</tr>\n",
       "</table>\n",
       "<table class=\"simpletable\">\n",
       "<tr>\n",
       "  <th>Omnibus:</th>       <td>5314.170</td> <th>  Durbin-Watson:     </th> <td>   0.905</td> \n",
       "</tr>\n",
       "<tr>\n",
       "  <th>Prob(Omnibus):</th>  <td> 0.000</td>  <th>  Jarque-Bera (JB):  </th> <td> 868.401</td> \n",
       "</tr>\n",
       "<tr>\n",
       "  <th>Skew:</th>           <td> 0.148</td>  <th>  Prob(JB):          </th> <td>2.69e-189</td>\n",
       "</tr>\n",
       "<tr>\n",
       "  <th>Kurtosis:</th>       <td> 1.952</td>  <th>  Cond. No.          </th> <td>    394.</td> \n",
       "</tr>\n",
       "</table><br/><br/>Notes:<br/>[1] Standard Errors assume that the covariance matrix of the errors is correctly specified."
      ],
      "text/plain": [
       "<class 'statsmodels.iolib.summary.Summary'>\n",
       "\"\"\"\n",
       "                            OLS Regression Results                            \n",
       "==============================================================================\n",
       "Dep. Variable:              合计发明专利申请量   R-squared:                       0.491\n",
       "Model:                            OLS   Adj. R-squared:                  0.491\n",
       "Method:                 Least Squares   F-statistic:                     1544.\n",
       "Date:                Sat, 05 Sep 2020   Prob (F-statistic):               0.00\n",
       "Time:                        11:50:57   Log-Likelihood:                -22126.\n",
       "No. Observations:               17585   AIC:                         4.428e+04\n",
       "Df Residuals:                   17573   BIC:                         4.437e+04\n",
       "Df Model:                          11                                         \n",
       "Covariance Type:            nonrobust                                         \n",
       "===================================================================================\n",
       "                      coef    std err          t      P>|t|      [0.025      0.975]\n",
       "-----------------------------------------------------------------------------------\n",
       "const             -12.1383      0.130    -93.710      0.000     -12.392     -11.884\n",
       "group               0.0956      0.015      6.378      0.000       0.066       0.125\n",
       "ROA                -0.0231      0.012     -1.870      0.062      -0.047       0.001\n",
       "size(企业规模）          1.4569      0.014    105.730      0.000       1.430       1.484\n",
       "资本密集度              -1.9179      0.038    -50.049      0.000      -1.993      -1.843\n",
       "OCF（经营活动现金流比率）      0.5053      0.082      6.165      0.000       0.345       0.666\n",
       "lev（资产负债率）         -0.0374      0.012     -3.208      0.001      -0.060      -0.015\n",
       "TOP1(第一大股东持股占比)    -1.1585      0.046    -25.364      0.000      -1.248      -1.069\n",
       "独董占比                1.5278      0.121     12.622      0.000       1.291       1.765\n",
       "TobinQ(市值A)         0.0477      0.004     13.078      0.000       0.041       0.055\n",
       "HHI                -1.5249      0.056    -27.253      0.000      -1.635      -1.415\n",
       "age1公司成立日期年龄       -0.0006      0.001     -0.510      0.610      -0.003       0.002\n",
       "==============================================================================\n",
       "Omnibus:                     5314.170   Durbin-Watson:                   0.905\n",
       "Prob(Omnibus):                  0.000   Jarque-Bera (JB):              868.401\n",
       "Skew:                           0.148   Prob(JB):                    2.69e-189\n",
       "Kurtosis:                       1.952   Cond. No.                         394.\n",
       "==============================================================================\n",
       "\n",
       "Notes:\n",
       "[1] Standard Errors assume that the covariance matrix of the errors is correctly specified.\n",
       "\"\"\""
      ]
     },
     "execution_count": 200,
     "metadata": {},
     "output_type": "execute_result"
    }
   ],
   "source": [
    "summury75"
   ]
  },
  {
   "cell_type": "code",
   "execution_count": null,
   "metadata": {},
   "outputs": [],
   "source": []
  }
 ],
 "metadata": {
  "kernelspec": {
   "display_name": "Python 3",
   "language": "python",
   "name": "python3"
  },
  "language_info": {
   "codemirror_mode": {
    "name": "ipython",
    "version": 3
   },
   "file_extension": ".py",
   "mimetype": "text/x-python",
   "name": "python",
   "nbconvert_exporter": "python",
   "pygments_lexer": "ipython3",
   "version": "3.7.8"
  }
 },
 "nbformat": 4,
 "nbformat_minor": 4
}
