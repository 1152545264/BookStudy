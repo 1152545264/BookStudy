{
 "cells": [
  {
   "cell_type": "code",
   "execution_count": 1,
   "metadata": {},
   "outputs": [],
   "source": [
    "import pandas as pd"
   ]
  },
  {
   "cell_type": "code",
   "execution_count": 2,
   "metadata": {},
   "outputs": [],
   "source": [
    "df = pd.read_excel('./销售收入.xlsx')"
   ]
  },
  {
   "cell_type": "code",
   "execution_count": 3,
   "metadata": {},
   "outputs": [
    {
     "data": {
      "text/html": [
       "<div>\n",
       "<style scoped>\n",
       "    .dataframe tbody tr th:only-of-type {\n",
       "        vertical-align: middle;\n",
       "    }\n",
       "\n",
       "    .dataframe tbody tr th {\n",
       "        vertical-align: top;\n",
       "    }\n",
       "\n",
       "    .dataframe thead th {\n",
       "        text-align: right;\n",
       "    }\n",
       "</style>\n",
       "<table border=\"1\" class=\"dataframe\">\n",
       "  <thead>\n",
       "    <tr style=\"text-align: right;\">\n",
       "      <th></th>\n",
       "      <th>id</th>\n",
       "      <th>会计期间</th>\n",
       "      <th>year</th>\n",
       "      <th>sales</th>\n",
       "    </tr>\n",
       "  </thead>\n",
       "  <tbody>\n",
       "    <tr>\n",
       "      <th>0</th>\n",
       "      <td>1</td>\n",
       "      <td>1999-12-31</td>\n",
       "      <td>1999</td>\n",
       "      <td>NaN</td>\n",
       "    </tr>\n",
       "    <tr>\n",
       "      <th>1</th>\n",
       "      <td>1</td>\n",
       "      <td>2000-12-31</td>\n",
       "      <td>2000</td>\n",
       "      <td>NaN</td>\n",
       "    </tr>\n",
       "    <tr>\n",
       "      <th>2</th>\n",
       "      <td>1</td>\n",
       "      <td>2002-12-31</td>\n",
       "      <td>2002</td>\n",
       "      <td>NaN</td>\n",
       "    </tr>\n",
       "    <tr>\n",
       "      <th>3</th>\n",
       "      <td>1</td>\n",
       "      <td>2003-12-31</td>\n",
       "      <td>2003</td>\n",
       "      <td>NaN</td>\n",
       "    </tr>\n",
       "    <tr>\n",
       "      <th>4</th>\n",
       "      <td>1</td>\n",
       "      <td>2004-12-31</td>\n",
       "      <td>2004</td>\n",
       "      <td>NaN</td>\n",
       "    </tr>\n",
       "  </tbody>\n",
       "</table>\n",
       "</div>"
      ],
      "text/plain": [
       "   id        会计期间  year  sales\n",
       "0   1  1999-12-31  1999    NaN\n",
       "1   1  2000-12-31  2000    NaN\n",
       "2   1  2002-12-31  2002    NaN\n",
       "3   1  2003-12-31  2003    NaN\n",
       "4   1  2004-12-31  2004    NaN"
      ]
     },
     "execution_count": 3,
     "metadata": {},
     "output_type": "execute_result"
    }
   ],
   "source": [
    "df.head()"
   ]
  },
  {
   "cell_type": "code",
   "execution_count": 10,
   "metadata": {},
   "outputs": [],
   "source": [
    "years = df.year.unique()"
   ]
  },
  {
   "cell_type": "code",
   "execution_count": 11,
   "metadata": {},
   "outputs": [],
   "source": [
    "years.sort()"
   ]
  },
  {
   "cell_type": "code",
   "execution_count": 12,
   "metadata": {},
   "outputs": [
    {
     "data": {
      "text/plain": [
       "array([1999, 2000, 2001, 2002, 2003, 2004, 2005, 2006, 2007, 2008, 2009,\n",
       "       2010, 2011, 2012, 2013, 2014, 2015, 2016, 2017, 2018], dtype=int64)"
      ]
     },
     "execution_count": 12,
     "metadata": {},
     "output_type": "execute_result"
    }
   ],
   "source": [
    "years"
   ]
  },
  {
   "cell_type": "code",
   "execution_count": 13,
   "metadata": {},
   "outputs": [
    {
     "data": {
      "text/plain": [
       "20"
      ]
     },
     "execution_count": 13,
     "metadata": {},
     "output_type": "execute_result"
    }
   ],
   "source": [
    "len(years)"
   ]
  },
  {
   "cell_type": "code",
   "execution_count": 14,
   "metadata": {},
   "outputs": [],
   "source": [
    "import numpy as np"
   ]
  },
  {
   "cell_type": "code",
   "execution_count": 27,
   "metadata": {},
   "outputs": [],
   "source": [
    "data = []\n",
    "for i in range(len(years)):\n",
    "    row = [None] * len(years)\n",
    "    for j in range(i, len(years)):\n",
    "        result = 5 - (years[j] - years[i])\n",
    "        if 1 <= result <= 5:\n",
    "            row[j] = int(result)\n",
    "    data.append(row)"
   ]
  },
  {
   "cell_type": "code",
   "execution_count": 28,
   "metadata": {},
   "outputs": [
    {
     "data": {
      "text/plain": [
       "array([[5, 4, 3, 2, 1, None, None, None, None, None, None, None, None,\n",
       "        None, None, None, None, None, None, None],\n",
       "       [None, 5, 4, 3, 2, 1, None, None, None, None, None, None, None,\n",
       "        None, None, None, None, None, None, None],\n",
       "       [None, None, 5, 4, 3, 2, 1, None, None, None, None, None, None,\n",
       "        None, None, None, None, None, None, None],\n",
       "       [None, None, None, 5, 4, 3, 2, 1, None, None, None, None, None,\n",
       "        None, None, None, None, None, None, None],\n",
       "       [None, None, None, None, 5, 4, 3, 2, 1, None, None, None, None,\n",
       "        None, None, None, None, None, None, None],\n",
       "       [None, None, None, None, None, 5, 4, 3, 2, 1, None, None, None,\n",
       "        None, None, None, None, None, None, None],\n",
       "       [None, None, None, None, None, None, 5, 4, 3, 2, 1, None, None,\n",
       "        None, None, None, None, None, None, None],\n",
       "       [None, None, None, None, None, None, None, 5, 4, 3, 2, 1, None,\n",
       "        None, None, None, None, None, None, None],\n",
       "       [None, None, None, None, None, None, None, None, 5, 4, 3, 2, 1,\n",
       "        None, None, None, None, None, None, None],\n",
       "       [None, None, None, None, None, None, None, None, None, 5, 4, 3, 2,\n",
       "        1, None, None, None, None, None, None],\n",
       "       [None, None, None, None, None, None, None, None, None, None, 5, 4,\n",
       "        3, 2, 1, None, None, None, None, None],\n",
       "       [None, None, None, None, None, None, None, None, None, None, None,\n",
       "        5, 4, 3, 2, 1, None, None, None, None],\n",
       "       [None, None, None, None, None, None, None, None, None, None, None,\n",
       "        None, 5, 4, 3, 2, 1, None, None, None],\n",
       "       [None, None, None, None, None, None, None, None, None, None, None,\n",
       "        None, None, 5, 4, 3, 2, 1, None, None],\n",
       "       [None, None, None, None, None, None, None, None, None, None, None,\n",
       "        None, None, None, 5, 4, 3, 2, 1, None],\n",
       "       [None, None, None, None, None, None, None, None, None, None, None,\n",
       "        None, None, None, None, 5, 4, 3, 2, 1],\n",
       "       [None, None, None, None, None, None, None, None, None, None, None,\n",
       "        None, None, None, None, None, 5, 4, 3, 2],\n",
       "       [None, None, None, None, None, None, None, None, None, None, None,\n",
       "        None, None, None, None, None, None, 5, 4, 3],\n",
       "       [None, None, None, None, None, None, None, None, None, None, None,\n",
       "        None, None, None, None, None, None, None, 5, 4],\n",
       "       [None, None, None, None, None, None, None, None, None, None, None,\n",
       "        None, None, None, None, None, None, None, None, 5]], dtype=object)"
      ]
     },
     "execution_count": 28,
     "metadata": {},
     "output_type": "execute_result"
    }
   ],
   "source": [
    "np.array(data)"
   ]
  },
  {
   "cell_type": "code",
   "execution_count": 30,
   "metadata": {},
   "outputs": [],
   "source": [
    "ami_df = pd.DataFrame(data, columns=years, index=years)"
   ]
  },
  {
   "cell_type": "code",
   "execution_count": 31,
   "metadata": {},
   "outputs": [],
   "source": [
    "ami_df.to_excel('ainio.xlsx')"
   ]
  },
  {
   "cell_type": "code",
   "execution_count": null,
   "metadata": {},
   "outputs": [],
   "source": []
  }
 ],
 "metadata": {
  "kernelspec": {
   "display_name": "Python 3",
   "language": "python",
   "name": "python3"
  },
  "language_info": {
   "codemirror_mode": {
    "name": "ipython",
    "version": 3
   },
   "file_extension": ".py",
   "mimetype": "text/x-python",
   "name": "python",
   "nbconvert_exporter": "python",
   "pygments_lexer": "ipython3",
   "version": "3.7.8"
  }
 },
 "nbformat": 4,
 "nbformat_minor": 4
}
