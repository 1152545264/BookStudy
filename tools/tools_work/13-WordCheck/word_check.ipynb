{
 "metadata": {
  "language_info": {
   "codemirror_mode": {
    "name": "ipython",
    "version": 3
   },
   "file_extension": ".py",
   "mimetype": "text/x-python",
   "name": "python",
   "nbconvert_exporter": "python",
   "pygments_lexer": "ipython3",
   "version": "3.7.8-final"
  },
  "orig_nbformat": 2,
  "kernelspec": {
   "name": "python3",
   "display_name": "Python 3"
  }
 },
 "nbformat": 4,
 "nbformat_minor": 2,
 "cells": [
  {
   "source": [
    "# 脚本处理，检查SAP人工维护表的详设、需求和开发是否一致"
   ],
   "cell_type": "markdown",
   "metadata": {}
  },
  {
   "source": [
    "输入的变量"
   ],
   "cell_type": "markdown",
   "metadata": {}
  },
  {
   "cell_type": "code",
   "execution_count": 100,
   "metadata": {},
   "outputs": [],
   "source": [
    "sheet_num = 10"
   ]
  },
  {
   "source": [
    "下面时实现过程"
   ],
   "cell_type": "markdown",
   "metadata": {}
  },
  {
   "cell_type": "code",
   "execution_count": 101,
   "metadata": {},
   "outputs": [],
   "source": [
    "import pandas as pd\n",
    "import re"
   ]
  },
  {
   "cell_type": "code",
   "execution_count": 102,
   "metadata": {},
   "outputs": [],
   "source": [
    "root_path = r'E:\\【冲鸭】\\【工作】1. 工作安排、文件存储\\20201201-装置配置表的详设、需求、实施的检查\\万华数据中台(DMP)-PMO-TCK-SAP人工维护表-20201130-V2.6.xls'"
   ]
  },
  {
   "cell_type": "code",
   "execution_count": 103,
   "metadata": {},
   "outputs": [],
   "source": [
    "df = pd.read_excel(root_path, sheet_name=sheet_num)"
   ]
  },
  {
   "cell_type": "code",
   "execution_count": 104,
   "metadata": {},
   "outputs": [
    {
     "output_type": "execute_result",
     "data": {
      "text/plain": [
       "array(['BUKRS', 'POSID', 'dmbtr', 'ZPOSID'], dtype=object)"
      ]
     },
     "metadata": {},
     "execution_count": 104
    }
   ],
   "source": [
    "words = df.iloc[0, :].values\n",
    "words"
   ]
  },
  {
   "cell_type": "code",
   "execution_count": 105,
   "metadata": {},
   "outputs": [],
   "source": [
    "with open('./aim_sql.txt', 'r', encoding='utf-8') as f:\n",
    "    result = f.readlines()\n",
    "table_name_line = result[0]\n",
    "table_name = re.search(r'create\\s*table[\\w\\s\\`]*\\.(\\`)?(\\w*)(\\`\\()?', table_name_line).group(2)"
   ]
  },
  {
   "cell_type": "code",
   "execution_count": 106,
   "metadata": {
    "tags": []
   },
   "outputs": [
    {
     "output_type": "stream",
     "name": "stdout",
     "text": [
      "10. 表 zftls 在详设中没有找到字段有：\n\t无\n"
     ]
    }
   ],
   "source": [
    "print(str(sheet_num) + '. 表', table_name, '在详设中没有找到字段有：')\n",
    "num = 1\n",
    "error_count = 0\n",
    "for word in words:\n",
    "    if pd.isna(word):\n",
    "        break\n",
    "    count = 0\n",
    "    for line in result:\n",
    "        if word.lower() in line.lower():\n",
    "            pattern = '\\s*`?' + word.lower() + '`?\\s*(string|String).*'\n",
    "            aa = re.match(pattern, line.lower())\n",
    "            if aa:\n",
    "                count += 1\n",
    "\n",
    "    if count == 1:\n",
    "        # print(word, '：通过！')\n",
    "        pass\n",
    "    elif count == 0:\n",
    "        print('\\t', num, ':', word)\n",
    "        num += 1\n",
    "        error_count += 1\n",
    "    else:\n",
    "        print('怎么找到了一万个字段：', word)\n",
    "        error_count += 1\n",
    "if error_count == 0:\n",
    "    print('\\t无')    "
   ]
  },
  {
   "cell_type": "code",
   "execution_count": null,
   "metadata": {},
   "outputs": [],
   "source": []
  }
 ]
}